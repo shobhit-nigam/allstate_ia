{
 "cells": [
  {
   "cell_type": "code",
   "execution_count": 1,
   "metadata": {},
   "outputs": [],
   "source": [
    "class windows:\n",
    "    data_1 = 100\n",
    "    data_2 = 300\n",
    "    \n",
    "    def display_data(self):\n",
    "        print(\"data_1 =\", self.data_1)\n",
    "        print(\"data_2 =\", self.data_2)"
   ]
  },
  {
   "cell_type": "code",
   "execution_count": 2,
   "metadata": {},
   "outputs": [],
   "source": [
    "objw = windows()"
   ]
  },
  {
   "cell_type": "code",
   "execution_count": 3,
   "metadata": {},
   "outputs": [],
   "source": [
    "objx = windows()"
   ]
  },
  {
   "cell_type": "code",
   "execution_count": 4,
   "metadata": {},
   "outputs": [
    {
     "data": {
      "text/plain": [
       "100"
      ]
     },
     "execution_count": 4,
     "metadata": {},
     "output_type": "execute_result"
    }
   ],
   "source": [
    "objw.data_1"
   ]
  },
  {
   "cell_type": "code",
   "execution_count": 5,
   "metadata": {},
   "outputs": [
    {
     "name": "stdout",
     "output_type": "stream",
     "text": [
      "data_1 = 100\n",
      "data_2 = 300\n"
     ]
    }
   ],
   "source": [
    "objw.display_data()"
   ]
  },
  {
   "cell_type": "code",
   "execution_count": 6,
   "metadata": {},
   "outputs": [],
   "source": [
    "objw.data_2 = 999"
   ]
  },
  {
   "cell_type": "code",
   "execution_count": 7,
   "metadata": {},
   "outputs": [
    {
     "name": "stdout",
     "output_type": "stream",
     "text": [
      "data_1 = 100\n",
      "data_2 = 999\n"
     ]
    }
   ],
   "source": [
    "objw.display_data()"
   ]
  },
  {
   "cell_type": "code",
   "execution_count": 8,
   "metadata": {},
   "outputs": [
    {
     "name": "stdout",
     "output_type": "stream",
     "text": [
      "data_1 = 100\n",
      "data_2 = 300\n"
     ]
    }
   ],
   "source": [
    "objx.display_data()"
   ]
  },
  {
   "cell_type": "code",
   "execution_count": 9,
   "metadata": {},
   "outputs": [],
   "source": [
    "class windows:    \n",
    "    def display_data(self):\n",
    "        print(\"data_1 =\", self.data_1)\n",
    "        print(\"data_2 =\", self.data_2)\n",
    "        \n",
    "    def update_data(self, a, b):\n",
    "        self.data_1 = a\n",
    "        self.data_2 = b"
   ]
  },
  {
   "cell_type": "code",
   "execution_count": 10,
   "metadata": {},
   "outputs": [],
   "source": [
    "objw = windows()\n",
    "objx = windows()"
   ]
  },
  {
   "cell_type": "code",
   "execution_count": 11,
   "metadata": {},
   "outputs": [
    {
     "ename": "AttributeError",
     "evalue": "'windows' object has no attribute 'data_1'",
     "output_type": "error",
     "traceback": [
      "\u001b[0;31m---------------------------------------------------------------------------\u001b[0m",
      "\u001b[0;31mAttributeError\u001b[0m                            Traceback (most recent call last)",
      "\u001b[0;32m<ipython-input-11-b72b9b539556>\u001b[0m in \u001b[0;36m<module>\u001b[0;34m\u001b[0m\n\u001b[0;32m----> 1\u001b[0;31m \u001b[0mobjx\u001b[0m\u001b[0;34m.\u001b[0m\u001b[0mdisplay_data\u001b[0m\u001b[0;34m(\u001b[0m\u001b[0;34m)\u001b[0m\u001b[0;34m\u001b[0m\u001b[0;34m\u001b[0m\u001b[0m\n\u001b[0m",
      "\u001b[0;32m<ipython-input-9-d625bfade564>\u001b[0m in \u001b[0;36mdisplay_data\u001b[0;34m(self)\u001b[0m\n\u001b[1;32m      1\u001b[0m \u001b[0;32mclass\u001b[0m \u001b[0mwindows\u001b[0m\u001b[0;34m:\u001b[0m\u001b[0;34m\u001b[0m\u001b[0;34m\u001b[0m\u001b[0m\n\u001b[1;32m      2\u001b[0m     \u001b[0;32mdef\u001b[0m \u001b[0mdisplay_data\u001b[0m\u001b[0;34m(\u001b[0m\u001b[0mself\u001b[0m\u001b[0;34m)\u001b[0m\u001b[0;34m:\u001b[0m\u001b[0;34m\u001b[0m\u001b[0;34m\u001b[0m\u001b[0m\n\u001b[0;32m----> 3\u001b[0;31m         \u001b[0mprint\u001b[0m\u001b[0;34m(\u001b[0m\u001b[0;34m\"data_1 =\"\u001b[0m\u001b[0;34m,\u001b[0m \u001b[0mself\u001b[0m\u001b[0;34m.\u001b[0m\u001b[0mdata_1\u001b[0m\u001b[0;34m)\u001b[0m\u001b[0;34m\u001b[0m\u001b[0;34m\u001b[0m\u001b[0m\n\u001b[0m\u001b[1;32m      4\u001b[0m         \u001b[0mprint\u001b[0m\u001b[0;34m(\u001b[0m\u001b[0;34m\"data_2 =\"\u001b[0m\u001b[0;34m,\u001b[0m \u001b[0mself\u001b[0m\u001b[0;34m.\u001b[0m\u001b[0mdata_2\u001b[0m\u001b[0;34m)\u001b[0m\u001b[0;34m\u001b[0m\u001b[0;34m\u001b[0m\u001b[0m\n\u001b[1;32m      5\u001b[0m \u001b[0;34m\u001b[0m\u001b[0m\n",
      "\u001b[0;31mAttributeError\u001b[0m: 'windows' object has no attribute 'data_1'"
     ]
    }
   ],
   "source": [
    "objx.display_data()"
   ]
  },
  {
   "cell_type": "code",
   "execution_count": 12,
   "metadata": {},
   "outputs": [],
   "source": [
    "class windows:    \n",
    "    def display_data(self):\n",
    "        print(\"data_1 =\", self.data_1)\n",
    "        print(\"data_2 =\", self.data_2)\n",
    "        \n",
    "    def update_data(self, a, b):\n",
    "        self.data_1 = a\n",
    "        self.data_2 = b"
   ]
  },
  {
   "cell_type": "code",
   "execution_count": 13,
   "metadata": {},
   "outputs": [],
   "source": [
    "objw = windows()\n",
    "objx = windows()"
   ]
  },
  {
   "cell_type": "code",
   "execution_count": 14,
   "metadata": {},
   "outputs": [],
   "source": [
    "# objx.funca()\n",
    "#    = windows.funca(objx)\n",
    "\n",
    "objx.update_data(11, 22)   # windows.update_data(objx, 11, 22)\n",
    "    "
   ]
  },
  {
   "cell_type": "code",
   "execution_count": 15,
   "metadata": {},
   "outputs": [
    {
     "name": "stdout",
     "output_type": "stream",
     "text": [
      "data_1 = 11\n",
      "data_2 = 22\n"
     ]
    }
   ],
   "source": [
    "objx.display_data()"
   ]
  },
  {
   "cell_type": "code",
   "execution_count": 16,
   "metadata": {},
   "outputs": [
    {
     "ename": "AttributeError",
     "evalue": "'windows' object has no attribute 'data_1'",
     "output_type": "error",
     "traceback": [
      "\u001b[0;31m---------------------------------------------------------------------------\u001b[0m",
      "\u001b[0;31mAttributeError\u001b[0m                            Traceback (most recent call last)",
      "\u001b[0;32m<ipython-input-16-c8eaddb28d68>\u001b[0m in \u001b[0;36m<module>\u001b[0;34m\u001b[0m\n\u001b[0;32m----> 1\u001b[0;31m \u001b[0mobjw\u001b[0m\u001b[0;34m.\u001b[0m\u001b[0mdisplay_data\u001b[0m\u001b[0;34m(\u001b[0m\u001b[0;34m)\u001b[0m\u001b[0;34m\u001b[0m\u001b[0;34m\u001b[0m\u001b[0m\n\u001b[0m",
      "\u001b[0;32m<ipython-input-12-d625bfade564>\u001b[0m in \u001b[0;36mdisplay_data\u001b[0;34m(self)\u001b[0m\n\u001b[1;32m      1\u001b[0m \u001b[0;32mclass\u001b[0m \u001b[0mwindows\u001b[0m\u001b[0;34m:\u001b[0m\u001b[0;34m\u001b[0m\u001b[0;34m\u001b[0m\u001b[0m\n\u001b[1;32m      2\u001b[0m     \u001b[0;32mdef\u001b[0m \u001b[0mdisplay_data\u001b[0m\u001b[0;34m(\u001b[0m\u001b[0mself\u001b[0m\u001b[0;34m)\u001b[0m\u001b[0;34m:\u001b[0m\u001b[0;34m\u001b[0m\u001b[0;34m\u001b[0m\u001b[0m\n\u001b[0;32m----> 3\u001b[0;31m         \u001b[0mprint\u001b[0m\u001b[0;34m(\u001b[0m\u001b[0;34m\"data_1 =\"\u001b[0m\u001b[0;34m,\u001b[0m \u001b[0mself\u001b[0m\u001b[0;34m.\u001b[0m\u001b[0mdata_1\u001b[0m\u001b[0;34m)\u001b[0m\u001b[0;34m\u001b[0m\u001b[0;34m\u001b[0m\u001b[0m\n\u001b[0m\u001b[1;32m      4\u001b[0m         \u001b[0mprint\u001b[0m\u001b[0;34m(\u001b[0m\u001b[0;34m\"data_2 =\"\u001b[0m\u001b[0;34m,\u001b[0m \u001b[0mself\u001b[0m\u001b[0;34m.\u001b[0m\u001b[0mdata_2\u001b[0m\u001b[0;34m)\u001b[0m\u001b[0;34m\u001b[0m\u001b[0;34m\u001b[0m\u001b[0m\n\u001b[1;32m      5\u001b[0m \u001b[0;34m\u001b[0m\u001b[0m\n",
      "\u001b[0;31mAttributeError\u001b[0m: 'windows' object has no attribute 'data_1'"
     ]
    }
   ],
   "source": [
    "objw.display_data()"
   ]
  },
  {
   "cell_type": "code",
   "execution_count": 17,
   "metadata": {},
   "outputs": [],
   "source": [
    "class windows:  \n",
    "    def __init__(self):\n",
    "        print(\"gets called\")\n",
    "        \n",
    "    def display_data(self):\n",
    "        print(\"data_1 =\", self.data_1)\n",
    "        print(\"data_2 =\", self.data_2)\n",
    "        \n",
    "    def update_data(self, a, b):\n",
    "        self.data_1 = a\n",
    "        self.data_2 = b"
   ]
  },
  {
   "cell_type": "code",
   "execution_count": 18,
   "metadata": {},
   "outputs": [
    {
     "name": "stdout",
     "output_type": "stream",
     "text": [
      "gets called\n"
     ]
    }
   ],
   "source": [
    "objw = windows()"
   ]
  },
  {
   "cell_type": "code",
   "execution_count": 19,
   "metadata": {},
   "outputs": [
    {
     "name": "stdout",
     "output_type": "stream",
     "text": [
      "gets called\n"
     ]
    }
   ],
   "source": [
    "objx = windows()"
   ]
  },
  {
   "cell_type": "code",
   "execution_count": 20,
   "metadata": {},
   "outputs": [],
   "source": [
    "class customer:\n",
    "    def __init__(self, i=0, n=\"john doe\", t='D'):\n",
    "        self.cid = i\n",
    "        self.name = n\n",
    "        self.type = t\n",
    "        \n",
    "    def display_data(self):\n",
    "        print(\"welcome \", self.name)\n",
    "        if self.type == 'A':\n",
    "            print(\"would like to have some coffee\")\n",
    "        elif self.type == 'B':\n",
    "            print(\"would like to have some water\")\n",
    "        elif self.type == 'C':\n",
    "            print(\"how may i help you\")\n",
    "        else:\n",
    "            print(\"will be with you shortly\")\n",
    "            \n",
    "    def update_data(self, t):\n",
    "        self.type = t"
   ]
  },
  {
   "cell_type": "code",
   "execution_count": 21,
   "metadata": {},
   "outputs": [],
   "source": [
    "cust1 = customer(23460, \"justin trudeau\", 'A')\n",
    "cust2 = customer(23461, \"jacinda arden\", 'A')\n",
    "cust3 = customer(23462, \"kamala harris\", 'B')"
   ]
  },
  {
   "cell_type": "code",
   "execution_count": 22,
   "metadata": {},
   "outputs": [
    {
     "name": "stdout",
     "output_type": "stream",
     "text": [
      "welcome  justin trudeau\n",
      "would like to have some coffee\n"
     ]
    }
   ],
   "source": [
    "cust1.display_data()"
   ]
  },
  {
   "cell_type": "code",
   "execution_count": 23,
   "metadata": {},
   "outputs": [
    {
     "name": "stdout",
     "output_type": "stream",
     "text": [
      "welcome  kamala harris\n",
      "would like to have some water\n"
     ]
    }
   ],
   "source": [
    "cust3.display_data()"
   ]
  },
  {
   "cell_type": "code",
   "execution_count": 24,
   "metadata": {},
   "outputs": [],
   "source": [
    "cust3.update_data('C')"
   ]
  },
  {
   "cell_type": "code",
   "execution_count": 25,
   "metadata": {
    "scrolled": true
   },
   "outputs": [
    {
     "name": "stdout",
     "output_type": "stream",
     "text": [
      "welcome  kamala harris\n",
      "how may i help you\n"
     ]
    }
   ],
   "source": [
    "cust3.display_data()"
   ]
  },
  {
   "cell_type": "code",
   "execution_count": 26,
   "metadata": {},
   "outputs": [
    {
     "data": {
      "text/plain": [
       "'C'"
      ]
     },
     "execution_count": 26,
     "metadata": {},
     "output_type": "execute_result"
    }
   ],
   "source": [
    "cust3.type"
   ]
  },
  {
   "cell_type": "code",
   "execution_count": 27,
   "metadata": {},
   "outputs": [],
   "source": [
    "class customer:\n",
    "    def __init__(self, i=0, n=\"john doe\", t='D'):\n",
    "        self.cid = i\n",
    "        self.name = n\n",
    "        self.__type = t\n",
    "        \n",
    "    def display_data(self):\n",
    "        print(\"welcome \", self.name)\n",
    "        if self.__type == 'A':\n",
    "            print(\"would like to have some coffee\")\n",
    "        elif self.__type == 'B':\n",
    "            print(\"would like to have some water\")\n",
    "        elif self.__type == 'C':\n",
    "            print(\"how may i help you\")\n",
    "        else:\n",
    "            print(\"will be with you shortly\")\n",
    "            \n",
    "    def update_data(self, t):\n",
    "        self.__type = t"
   ]
  },
  {
   "cell_type": "code",
   "execution_count": 28,
   "metadata": {},
   "outputs": [],
   "source": [
    "cust1 = customer(23460, \"justin trudeau\", 'A')\n",
    "cust2 = customer(23461, \"jacinda arden\", 'A')\n",
    "cust3 = customer(23462, \"kamala harris\", 'B')"
   ]
  },
  {
   "cell_type": "code",
   "execution_count": 29,
   "metadata": {},
   "outputs": [
    {
     "name": "stdout",
     "output_type": "stream",
     "text": [
      "welcome  justin trudeau\n",
      "would like to have some coffee\n"
     ]
    }
   ],
   "source": [
    "cust1.display_data()"
   ]
  },
  {
   "cell_type": "code",
   "execution_count": 30,
   "metadata": {},
   "outputs": [
    {
     "ename": "AttributeError",
     "evalue": "'customer' object has no attribute '__type'",
     "output_type": "error",
     "traceback": [
      "\u001b[0;31m---------------------------------------------------------------------------\u001b[0m",
      "\u001b[0;31mAttributeError\u001b[0m                            Traceback (most recent call last)",
      "\u001b[0;32m<ipython-input-30-8e306c75bfc3>\u001b[0m in \u001b[0;36m<module>\u001b[0;34m\u001b[0m\n\u001b[0;32m----> 1\u001b[0;31m \u001b[0mcust1\u001b[0m\u001b[0;34m.\u001b[0m\u001b[0m__type\u001b[0m\u001b[0;34m\u001b[0m\u001b[0;34m\u001b[0m\u001b[0m\n\u001b[0m",
      "\u001b[0;31mAttributeError\u001b[0m: 'customer' object has no attribute '__type'"
     ]
    }
   ],
   "source": [
    "cust1.__type"
   ]
  },
  {
   "cell_type": "code",
   "execution_count": 31,
   "metadata": {},
   "outputs": [
    {
     "ename": "AttributeError",
     "evalue": "'customer' object has no attribute 'type'",
     "output_type": "error",
     "traceback": [
      "\u001b[0;31m---------------------------------------------------------------------------\u001b[0m",
      "\u001b[0;31mAttributeError\u001b[0m                            Traceback (most recent call last)",
      "\u001b[0;32m<ipython-input-31-edbf8c8cc6eb>\u001b[0m in \u001b[0;36m<module>\u001b[0;34m\u001b[0m\n\u001b[0;32m----> 1\u001b[0;31m \u001b[0mcust3\u001b[0m\u001b[0;34m.\u001b[0m\u001b[0mtype\u001b[0m\u001b[0;34m\u001b[0m\u001b[0;34m\u001b[0m\u001b[0m\n\u001b[0m",
      "\u001b[0;31mAttributeError\u001b[0m: 'customer' object has no attribute 'type'"
     ]
    }
   ],
   "source": [
    "cust3.type"
   ]
  },
  {
   "cell_type": "code",
   "execution_count": 32,
   "metadata": {},
   "outputs": [],
   "source": [
    "class windows:\n",
    "    data1 = 100\n",
    "    _data2 = 300\n",
    "    __data3 = 500\n",
    "    __data4__ = 600\n",
    "    \n",
    "    def display_data(self):\n",
    "        print(\"data1 =\", self.data1)\n",
    "        print(\"_data2 =\", self._data2)\n",
    "        print(\"__data3 =\", self.__data3)\n",
    "        print(\"__data4__ =\", self.__data4__)"
   ]
  },
  {
   "cell_type": "code",
   "execution_count": 33,
   "metadata": {},
   "outputs": [],
   "source": [
    "objw = windows()"
   ]
  },
  {
   "cell_type": "code",
   "execution_count": 34,
   "metadata": {},
   "outputs": [
    {
     "name": "stdout",
     "output_type": "stream",
     "text": [
      "data1 = 100\n",
      "_data2 = 300\n"
     ]
    },
    {
     "ename": "AttributeError",
     "evalue": "'windows' object has no attribute '__data3'",
     "output_type": "error",
     "traceback": [
      "\u001b[0;31m---------------------------------------------------------------------------\u001b[0m",
      "\u001b[0;31mAttributeError\u001b[0m                            Traceback (most recent call last)",
      "\u001b[0;32m<ipython-input-34-b1165d7939cd>\u001b[0m in \u001b[0;36m<module>\u001b[0;34m\u001b[0m\n\u001b[1;32m      1\u001b[0m \u001b[0mprint\u001b[0m\u001b[0;34m(\u001b[0m\u001b[0;34m\"data1 =\"\u001b[0m\u001b[0;34m,\u001b[0m \u001b[0mobjw\u001b[0m\u001b[0;34m.\u001b[0m\u001b[0mdata1\u001b[0m\u001b[0;34m)\u001b[0m\u001b[0;34m\u001b[0m\u001b[0;34m\u001b[0m\u001b[0m\n\u001b[1;32m      2\u001b[0m \u001b[0mprint\u001b[0m\u001b[0;34m(\u001b[0m\u001b[0;34m\"_data2 =\"\u001b[0m\u001b[0;34m,\u001b[0m \u001b[0mobjw\u001b[0m\u001b[0;34m.\u001b[0m\u001b[0m_data2\u001b[0m\u001b[0;34m)\u001b[0m\u001b[0;34m\u001b[0m\u001b[0;34m\u001b[0m\u001b[0m\n\u001b[0;32m----> 3\u001b[0;31m \u001b[0mprint\u001b[0m\u001b[0;34m(\u001b[0m\u001b[0;34m\"__data3 =\"\u001b[0m\u001b[0;34m,\u001b[0m \u001b[0mobjw\u001b[0m\u001b[0;34m.\u001b[0m\u001b[0m__data3\u001b[0m\u001b[0;34m)\u001b[0m\u001b[0;34m\u001b[0m\u001b[0;34m\u001b[0m\u001b[0m\n\u001b[0m\u001b[1;32m      4\u001b[0m \u001b[0mprint\u001b[0m\u001b[0;34m(\u001b[0m\u001b[0;34m\"__data4__ =\"\u001b[0m\u001b[0;34m,\u001b[0m \u001b[0mobjw\u001b[0m\u001b[0;34m.\u001b[0m\u001b[0m__data4__\u001b[0m\u001b[0;34m)\u001b[0m\u001b[0;34m\u001b[0m\u001b[0;34m\u001b[0m\u001b[0m\n",
      "\u001b[0;31mAttributeError\u001b[0m: 'windows' object has no attribute '__data3'"
     ]
    }
   ],
   "source": [
    "print(\"data1 =\", objw.data1)\n",
    "print(\"_data2 =\", objw._data2)\n",
    "print(\"__data3 =\", objw.__data3)\n",
    "print(\"__data4__ =\", objw.__data4__)"
   ]
  },
  {
   "cell_type": "code",
   "execution_count": 35,
   "metadata": {},
   "outputs": [
    {
     "name": "stdout",
     "output_type": "stream",
     "text": [
      "__data4__ = 600\n"
     ]
    }
   ],
   "source": [
    "print(\"__data4__ =\", objw.__data4__)"
   ]
  },
  {
   "cell_type": "code",
   "execution_count": 36,
   "metadata": {},
   "outputs": [
    {
     "name": "stdout",
     "output_type": "stream",
     "text": [
      "data1 = 100\n",
      "_data2 = 300\n",
      "__data3 = 500\n",
      "__data4__ = 600\n"
     ]
    }
   ],
   "source": [
    "objw.display_data()"
   ]
  },
  {
   "cell_type": "code",
   "execution_count": 37,
   "metadata": {},
   "outputs": [],
   "source": [
    "#   encapsulation\n",
    "#   inheritance\n",
    "#   polymorphism "
   ]
  },
  {
   "cell_type": "code",
   "execution_count": 41,
   "metadata": {},
   "outputs": [],
   "source": [
    "class unix:\n",
    "    def cmd(self):\n",
    "        print(\"great command line interface\")\n",
    "\n",
    "    def security(self):\n",
    "        print(\"secure OS\")"
   ]
  },
  {
   "cell_type": "code",
   "execution_count": 42,
   "metadata": {},
   "outputs": [],
   "source": [
    "class linux(unix):\n",
    "    def free(self):\n",
    "        print(\"it's open sourse, so free\")"
   ]
  },
  {
   "cell_type": "code",
   "execution_count": 43,
   "metadata": {},
   "outputs": [],
   "source": [
    "obju = unix()\n",
    "objl = linux()"
   ]
  },
  {
   "cell_type": "code",
   "execution_count": 44,
   "metadata": {},
   "outputs": [
    {
     "name": "stdout",
     "output_type": "stream",
     "text": [
      "great command line interface\n"
     ]
    }
   ],
   "source": [
    "objl.cmd()"
   ]
  },
  {
   "cell_type": "code",
   "execution_count": 45,
   "metadata": {},
   "outputs": [],
   "source": [
    "class mobileOS():\n",
    "    def portable(self):\n",
    "        print(\"can be installed on tiny devices\")\n",
    "        \n",
    "class android(linux, mobileOS):\n",
    "    def gui(self):\n",
    "        print(\"great GUI\")"
   ]
  },
  {
   "cell_type": "code",
   "execution_count": 46,
   "metadata": {},
   "outputs": [],
   "source": [
    "objm = mobileOS()\n",
    "obja = android()"
   ]
  },
  {
   "cell_type": "code",
   "execution_count": 47,
   "metadata": {},
   "outputs": [
    {
     "name": "stdout",
     "output_type": "stream",
     "text": [
      "it's open sourse, so free\n"
     ]
    }
   ],
   "source": [
    "obja.free()"
   ]
  },
  {
   "cell_type": "code",
   "execution_count": 49,
   "metadata": {},
   "outputs": [],
   "source": [
    "class unix:\n",
    "    def cmd(self):\n",
    "        print(\"great command line interface\")\n",
    "\n",
    "    def security(self):\n",
    "        print(\"secure OS\")\n",
    "        \n",
    "class linux(unix):\n",
    "    def free(self):\n",
    "        print(\"it's open sourse, so free\")\n",
    "    \n",
    "    def speed(self):\n",
    "        print(\"it's fast\")\n",
    "        \n",
    "class mobileOS():\n",
    "    def portable(self):\n",
    "        print(\"can be installed on tiny devices\")\n",
    "        \n",
    "    def speed(self):\n",
    "        print(\"it's quick\")\n",
    "        \n",
    "class android(linux, mobileOS):\n",
    "    def gui(self):\n",
    "        print(\"great GUI\")"
   ]
  },
  {
   "cell_type": "code",
   "execution_count": 50,
   "metadata": {},
   "outputs": [
    {
     "name": "stdout",
     "output_type": "stream",
     "text": [
      "it's fast\n"
     ]
    }
   ],
   "source": [
    "obja = android()\n",
    "obja.speed()"
   ]
  },
  {
   "cell_type": "code",
   "execution_count": 51,
   "metadata": {},
   "outputs": [],
   "source": [
    "class unix:\n",
    "    def cmd(self):\n",
    "        print(\"great command line interface\")\n",
    "\n",
    "    def security(self):\n",
    "        print(\"secure OS\")\n",
    "        \n",
    "class linux(unix):\n",
    "    def free(self):\n",
    "        print(\"it's open sourse, so free\")\n",
    "    \n",
    "    def speed(self):\n",
    "        print(\"it's fast\")\n",
    "        \n",
    "class mobileOS():\n",
    "    def portable(self):\n",
    "        print(\"can be installed on tiny devices\")\n",
    "        \n",
    "    def speed(self):\n",
    "        print(\"it's quick\")\n",
    "        \n",
    "class android(mobileOS, linux):\n",
    "    def gui(self):\n",
    "        print(\"great GUI\")"
   ]
  },
  {
   "cell_type": "code",
   "execution_count": 52,
   "metadata": {},
   "outputs": [
    {
     "name": "stdout",
     "output_type": "stream",
     "text": [
      "it's quick\n"
     ]
    }
   ],
   "source": [
    "obja = android()\n",
    "obja.speed()"
   ]
  },
  {
   "cell_type": "code",
   "execution_count": 53,
   "metadata": {},
   "outputs": [
    {
     "data": {
      "text/plain": [
       "16"
      ]
     },
     "execution_count": 53,
     "metadata": {},
     "output_type": "execute_result"
    }
   ],
   "source": [
    "6 + 10"
   ]
  },
  {
   "cell_type": "code",
   "execution_count": 54,
   "metadata": {},
   "outputs": [
    {
     "data": {
      "text/plain": [
       "'hiyi'"
      ]
     },
     "execution_count": 54,
     "metadata": {},
     "output_type": "execute_result"
    }
   ],
   "source": [
    "\"hi\" + \"yi\""
   ]
  },
  {
   "cell_type": "code",
   "execution_count": 55,
   "metadata": {},
   "outputs": [
    {
     "data": {
      "text/plain": [
       "[7, 6, 1, 2, 2, 2]"
      ]
     },
     "execution_count": 55,
     "metadata": {},
     "output_type": "execute_result"
    }
   ],
   "source": [
    "[7, 6, 1] + [2, 2, 2]"
   ]
  },
  {
   "cell_type": "code",
   "execution_count": 56,
   "metadata": {},
   "outputs": [
    {
     "ename": "TypeError",
     "evalue": "unsupported operand type(s) for +: 'set' and 'set'",
     "output_type": "error",
     "traceback": [
      "\u001b[0;31m---------------------------------------------------------------------------\u001b[0m",
      "\u001b[0;31mTypeError\u001b[0m                                 Traceback (most recent call last)",
      "\u001b[0;32m<ipython-input-56-fb3862151fe3>\u001b[0m in \u001b[0;36m<module>\u001b[0;34m\u001b[0m\n\u001b[0;32m----> 1\u001b[0;31m \u001b[0;34m{\u001b[0m\u001b[0;36m7\u001b[0m\u001b[0;34m,\u001b[0m \u001b[0;36m6\u001b[0m\u001b[0;34m,\u001b[0m \u001b[0;36m1\u001b[0m\u001b[0;34m}\u001b[0m \u001b[0;34m+\u001b[0m \u001b[0;34m{\u001b[0m\u001b[0;36m2\u001b[0m\u001b[0;34m,\u001b[0m \u001b[0;36m3\u001b[0m\u001b[0;34m,\u001b[0m \u001b[0;36m4\u001b[0m\u001b[0;34m}\u001b[0m\u001b[0;34m\u001b[0m\u001b[0;34m\u001b[0m\u001b[0m\n\u001b[0m",
      "\u001b[0;31mTypeError\u001b[0m: unsupported operand type(s) for +: 'set' and 'set'"
     ]
    }
   ],
   "source": [
    "{7, 6, 1} + {2, 3, 4}"
   ]
  },
  {
   "cell_type": "code",
   "execution_count": 57,
   "metadata": {},
   "outputs": [],
   "source": [
    "class time:\n",
    "    def __init__(self, h=0, m=0):\n",
    "        self.hours = h\n",
    "        self.minutes = m\n",
    "    \n",
    "    def display(self):\n",
    "        print(self.hours, \"hours and\", self.minutes, \"minutes\")"
   ]
  },
  {
   "cell_type": "code",
   "execution_count": 58,
   "metadata": {},
   "outputs": [],
   "source": [
    "first = time(1, 10)"
   ]
  },
  {
   "cell_type": "code",
   "execution_count": 59,
   "metadata": {},
   "outputs": [
    {
     "name": "stdout",
     "output_type": "stream",
     "text": [
      "1 hours and 10 minutes\n"
     ]
    }
   ],
   "source": [
    "first.display()"
   ]
  },
  {
   "cell_type": "code",
   "execution_count": 60,
   "metadata": {},
   "outputs": [],
   "source": [
    "second = time(1, 55)"
   ]
  },
  {
   "cell_type": "code",
   "execution_count": 61,
   "metadata": {},
   "outputs": [
    {
     "ename": "TypeError",
     "evalue": "unsupported operand type(s) for +: 'time' and 'time'",
     "output_type": "error",
     "traceback": [
      "\u001b[0;31m---------------------------------------------------------------------------\u001b[0m",
      "\u001b[0;31mTypeError\u001b[0m                                 Traceback (most recent call last)",
      "\u001b[0;32m<ipython-input-61-d787e94ab564>\u001b[0m in \u001b[0;36m<module>\u001b[0;34m\u001b[0m\n\u001b[0;32m----> 1\u001b[0;31m \u001b[0mtotal\u001b[0m \u001b[0;34m=\u001b[0m \u001b[0mfirst\u001b[0m \u001b[0;34m+\u001b[0m \u001b[0msecond\u001b[0m\u001b[0;34m\u001b[0m\u001b[0;34m\u001b[0m\u001b[0m\n\u001b[0m",
      "\u001b[0;31mTypeError\u001b[0m: unsupported operand type(s) for +: 'time' and 'time'"
     ]
    }
   ],
   "source": [
    "total = first + second"
   ]
  },
  {
   "cell_type": "code",
   "execution_count": 62,
   "metadata": {},
   "outputs": [],
   "source": [
    "class time:\n",
    "    def __init__(self, h=0, m=0):\n",
    "        self.hours = h\n",
    "        self.minutes = m\n",
    "    \n",
    "    def display(self):\n",
    "        print(self.hours, \"hours and\", self.minutes, \"minutes\")\n",
    "        \n",
    "    def __add__(self, other):\n",
    "        m1 = self.minutes + self.hours*60\n",
    "        m2 = other.minutes + other.hours*60\n",
    "        m3 = m1+m2\n",
    "        \n",
    "        temp = time()\n",
    "        temp.hours = m3//60\n",
    "        temp.minutes = m3%60\n",
    "        \n",
    "        return temp\n",
    "        "
   ]
  },
  {
   "cell_type": "code",
   "execution_count": 66,
   "metadata": {},
   "outputs": [],
   "source": [
    "first = time(1, 10)\n",
    "second = time(1, 55)\n",
    "third = time(1, 25)"
   ]
  },
  {
   "cell_type": "code",
   "execution_count": 64,
   "metadata": {},
   "outputs": [],
   "source": [
    "total = first + second"
   ]
  },
  {
   "cell_type": "code",
   "execution_count": 65,
   "metadata": {},
   "outputs": [
    {
     "name": "stdout",
     "output_type": "stream",
     "text": [
      "3 hours and 5 minutes\n"
     ]
    }
   ],
   "source": [
    "total.display()"
   ]
  },
  {
   "cell_type": "code",
   "execution_count": 67,
   "metadata": {},
   "outputs": [],
   "source": [
    "total = first + second + third"
   ]
  },
  {
   "cell_type": "code",
   "execution_count": 68,
   "metadata": {},
   "outputs": [
    {
     "name": "stdout",
     "output_type": "stream",
     "text": [
      "4 hours and 30 minutes\n"
     ]
    }
   ],
   "source": [
    "total.display()"
   ]
  },
  {
   "cell_type": "code",
   "execution_count": 69,
   "metadata": {},
   "outputs": [],
   "source": [
    "class time:\n",
    "    def __init__(self, h=0, m=0):\n",
    "        self.hours = h\n",
    "        self.minutes = m\n",
    "    \n",
    "    def display(self):\n",
    "        print(self.hours, \"hours and\", self.minutes, \"minutes\")\n",
    "        \n",
    "    def __add__(self, other):\n",
    "        m1 = self.minutes + self.hours*60\n",
    "        m2 = other.minutes + other.hours*60\n",
    "        m3 = m1+m2\n",
    "        \n",
    "        temp = time()\n",
    "        temp.hours = m3//60\n",
    "        temp.minutes = m3%60\n",
    "        \n",
    "        return temp\n",
    "\n",
    "    def __lt__(self, other):\n",
    "        m1 = self.minutes + self.hours*60\n",
    "        m2 = other.minutes + other.hours*60\n",
    "        if m1 < m2:\n",
    "            return True\n",
    "        else:\n",
    "            return False"
   ]
  },
  {
   "cell_type": "code",
   "execution_count": 70,
   "metadata": {},
   "outputs": [],
   "source": [
    "first = time(1, 10)\n",
    "second = time(1, 55)\n",
    "third = time(1, 25)"
   ]
  },
  {
   "cell_type": "code",
   "execution_count": 71,
   "metadata": {},
   "outputs": [
    {
     "data": {
      "text/plain": [
       "True"
      ]
     },
     "execution_count": 71,
     "metadata": {},
     "output_type": "execute_result"
    }
   ],
   "source": [
    "first < third"
   ]
  },
  {
   "cell_type": "code",
   "execution_count": 72,
   "metadata": {},
   "outputs": [
    {
     "data": {
      "text/plain": [
       "True"
      ]
     },
     "execution_count": 72,
     "metadata": {},
     "output_type": "execute_result"
    }
   ],
   "source": [
    "third < second"
   ]
  },
  {
   "cell_type": "code",
   "execution_count": 73,
   "metadata": {},
   "outputs": [
    {
     "data": {
      "text/plain": [
       "False"
      ]
     },
     "execution_count": 73,
     "metadata": {},
     "output_type": "execute_result"
    }
   ],
   "source": [
    "second < third"
   ]
  },
  {
   "cell_type": "code",
   "execution_count": 74,
   "metadata": {},
   "outputs": [
    {
     "name": "stdout",
     "output_type": "stream",
     "text": [
      "break too soon\n"
     ]
    }
   ],
   "source": [
    "if first < second:\n",
    "    print(\"break too soon\")\n",
    "else:\n",
    "    print(\"break too late\")"
   ]
  },
  {
   "cell_type": "code",
   "execution_count": 75,
   "metadata": {},
   "outputs": [
    {
     "data": {
      "text/plain": [
       "12"
      ]
     },
     "execution_count": 75,
     "metadata": {},
     "output_type": "execute_result"
    }
   ],
   "source": [
    "6 + 3*2"
   ]
  },
  {
   "cell_type": "code",
   "execution_count": 76,
   "metadata": {},
   "outputs": [],
   "source": [
    "class windows:\n",
    "    \"\"\"class to work with windows\"\"\"\n",
    "    data_1 = 100\n",
    "    data_2 = 300\n",
    "    \n",
    "    def display_data(self):\n",
    "        \"\"\"method to display data\"\"\"\n",
    "        print(\"data_1 =\", self.data_1)\n",
    "        print(\"data_2 =\", self.data_2)"
   ]
  },
  {
   "cell_type": "code",
   "execution_count": 77,
   "metadata": {},
   "outputs": [
    {
     "name": "stdout",
     "output_type": "stream",
     "text": [
      "Help on class windows in module __main__:\n",
      "\n",
      "class windows(builtins.object)\n",
      " |  class to work with windows\n",
      " |  \n",
      " |  Methods defined here:\n",
      " |  \n",
      " |  display_data(self)\n",
      " |      method to display data\n",
      " |  \n",
      " |  ----------------------------------------------------------------------\n",
      " |  Data descriptors defined here:\n",
      " |  \n",
      " |  __dict__\n",
      " |      dictionary for instance variables (if defined)\n",
      " |  \n",
      " |  __weakref__\n",
      " |      list of weak references to the object (if defined)\n",
      " |  \n",
      " |  ----------------------------------------------------------------------\n",
      " |  Data and other attributes defined here:\n",
      " |  \n",
      " |  data_1 = 100\n",
      " |  \n",
      " |  data_2 = 300\n",
      "\n"
     ]
    }
   ],
   "source": [
    "help(windows)"
   ]
  },
  {
   "cell_type": "code",
   "execution_count": 78,
   "metadata": {},
   "outputs": [],
   "source": [
    "class files:\n",
    "    \"\"\"to work with extraction, writing of data etc.\n",
    "    to & fro from a file\"\"\"\n",
    "    \n",
    "    def __init__(self, fn=None):\n",
    "        if fn == None:\n",
    "            print(\"please provide a valid filename\")\n",
    "        else:\n",
    "            self.filename = fn\n",
    "    \n",
    "    def read_column(self, col=0):\n",
    "        \"\"\"method for extracting a column\n",
    "        provide a valid column number, 0 will be assumed by default\"\"\"\n",
    "        with open(self.filename, \"r\") as fc:\n",
    "            strc = fc.read()  \n",
    "            \n",
    "        listc = strc.splitlines()\n",
    "        column = []\n",
    "\n",
    "        for line in listc:\n",
    "            temp = line.split()\n",
    "            column.append(temp[col])\n",
    "        return column\n",
    "    \n",
    "    def __add__(self, other):\n",
    "        a = self.filename\n",
    "        a = a.replace(\".txt\", \"_\")\n",
    "        b = other.filename\n",
    "        \n",
    "        fa = open(self.filename, \"r\")\n",
    "        fb = open(other.filename, \"r\")\n",
    "        fc = open(a+, \"w\")\n",
    "        \n",
    "        stra = fa.read()\n",
    "        strb = fb.read()\n",
    "        \n",
    "        fc.write(stra)\n",
    "        fc.write(\"\\n\")\n",
    "        fc.write(strb)\n",
    "        \n",
    "        fa.close()\n",
    "        fb.close()\n",
    "        fc.close()\n",
    "    "
   ]
  },
  {
   "cell_type": "code",
   "execution_count": 79,
   "metadata": {},
   "outputs": [],
   "source": [
    "import file"
   ]
  },
  {
   "cell_type": "code",
   "execution_count": 80,
   "metadata": {},
   "outputs": [],
   "source": [
    "obja = file.files(\"hello.txt\")"
   ]
  },
  {
   "cell_type": "code",
   "execution_count": 81,
   "metadata": {},
   "outputs": [
    {
     "data": {
      "text/plain": [
       "['rt', 'gh', 'gg', 'qo', 'ex']"
      ]
     },
     "execution_count": 81,
     "metadata": {},
     "output_type": "execute_result"
    }
   ],
   "source": [
    "obja.read_column(1)"
   ]
  },
  {
   "cell_type": "code",
   "execution_count": 82,
   "metadata": {},
   "outputs": [],
   "source": [
    "objb = file.files(\"hi.txt\")"
   ]
  },
  {
   "cell_type": "code",
   "execution_count": 83,
   "metadata": {},
   "outputs": [
    {
     "ename": "NameError",
     "evalue": "name 'b' is not defined",
     "output_type": "error",
     "traceback": [
      "\u001b[0;31m---------------------------------------------------------------------------\u001b[0m",
      "\u001b[0;31mNameError\u001b[0m                                 Traceback (most recent call last)",
      "\u001b[0;32m<ipython-input-83-0e0682acccf8>\u001b[0m in \u001b[0;36m<module>\u001b[0;34m\u001b[0m\n\u001b[0;32m----> 1\u001b[0;31m \u001b[0mobjc\u001b[0m \u001b[0;34m=\u001b[0m \u001b[0mobja\u001b[0m \u001b[0;34m+\u001b[0m \u001b[0mobjb\u001b[0m\u001b[0;34m\u001b[0m\u001b[0;34m\u001b[0m\u001b[0m\n\u001b[0m",
      "\u001b[0;32m~/Desktop/allstate/day_3/file.py\u001b[0m in \u001b[0;36m__add__\u001b[0;34m(self, other)\u001b[0m\n\u001b[1;32m     31\u001b[0m         \u001b[0mfa\u001b[0m \u001b[0;34m=\u001b[0m \u001b[0mopen\u001b[0m\u001b[0;34m(\u001b[0m\u001b[0mself\u001b[0m\u001b[0;34m.\u001b[0m\u001b[0mfilename\u001b[0m\u001b[0;34m,\u001b[0m \u001b[0;34m\"r\"\u001b[0m\u001b[0;34m)\u001b[0m\u001b[0;34m\u001b[0m\u001b[0;34m\u001b[0m\u001b[0m\n\u001b[1;32m     32\u001b[0m         \u001b[0mfb\u001b[0m \u001b[0;34m=\u001b[0m \u001b[0mopen\u001b[0m\u001b[0;34m(\u001b[0m\u001b[0mother\u001b[0m\u001b[0;34m.\u001b[0m\u001b[0mfilename\u001b[0m\u001b[0;34m,\u001b[0m \u001b[0;34m\"r\"\u001b[0m\u001b[0;34m)\u001b[0m\u001b[0;34m\u001b[0m\u001b[0;34m\u001b[0m\u001b[0m\n\u001b[0;32m---> 33\u001b[0;31m         \u001b[0mfc\u001b[0m \u001b[0;34m=\u001b[0m \u001b[0mopen\u001b[0m\u001b[0;34m(\u001b[0m\u001b[0ma\u001b[0m\u001b[0;34m+\u001b[0m\u001b[0mb\u001b[0m\u001b[0;34m,\u001b[0m \u001b[0;34m\"w\"\u001b[0m\u001b[0;34m)\u001b[0m\u001b[0;34m\u001b[0m\u001b[0;34m\u001b[0m\u001b[0m\n\u001b[0m\u001b[1;32m     34\u001b[0m \u001b[0;34m\u001b[0m\u001b[0m\n\u001b[1;32m     35\u001b[0m         \u001b[0mstra\u001b[0m \u001b[0;34m=\u001b[0m \u001b[0mfa\u001b[0m\u001b[0;34m.\u001b[0m\u001b[0mread\u001b[0m\u001b[0;34m(\u001b[0m\u001b[0;34m)\u001b[0m\u001b[0;34m\u001b[0m\u001b[0;34m\u001b[0m\u001b[0m\n",
      "\u001b[0;31mNameError\u001b[0m: name 'b' is not defined"
     ]
    }
   ],
   "source": [
    "objc = obja + objb"
   ]
  },
  {
   "cell_type": "code",
   "execution_count": 84,
   "metadata": {},
   "outputs": [],
   "source": [
    "import importlib"
   ]
  },
  {
   "cell_type": "code",
   "execution_count": 86,
   "metadata": {},
   "outputs": [
    {
     "data": {
      "text/plain": [
       "<module 'file' from '/Users/shobhit/Desktop/allstate/day_3/file.py'>"
      ]
     },
     "execution_count": 86,
     "metadata": {},
     "output_type": "execute_result"
    }
   ],
   "source": [
    "importlib.reload(file)"
   ]
  },
  {
   "cell_type": "code",
   "execution_count": 87,
   "metadata": {},
   "outputs": [],
   "source": [
    "obja = file.files(\"hello.txt\")\n",
    "objb = file.files(\"hi.txt\")\n",
    "\n",
    "objc = obja + objb"
   ]
  },
  {
   "cell_type": "code",
   "execution_count": 88,
   "metadata": {},
   "outputs": [
    {
     "name": "stdout",
     "output_type": "stream",
     "text": [
      "Help on module file:\n",
      "\n",
      "NAME\n",
      "    file - library for working with files\n",
      "\n",
      "CLASSES\n",
      "    builtins.object\n",
      "        files\n",
      "    \n",
      "    class files(builtins.object)\n",
      "     |  files(fn=None)\n",
      "     |  \n",
      "     |  to work with extraction, writing of data etc.\n",
      "     |  to & fro from a file\n",
      "     |  \n",
      "     |  Methods defined here:\n",
      "     |  \n",
      "     |  __add__(self, other)\n",
      "     |  \n",
      "     |  __init__(self, fn=None)\n",
      "     |      Initialize self.  See help(type(self)) for accurate signature.\n",
      "     |  \n",
      "     |  read_column(self, col=0)\n",
      "     |      method for extracting a column\n",
      "     |      provide a valid column number, 0 will be assumed by default\n",
      "     |  \n",
      "     |  ----------------------------------------------------------------------\n",
      "     |  Data descriptors defined here:\n",
      "     |  \n",
      "     |  __dict__\n",
      "     |      dictionary for instance variables (if defined)\n",
      "     |  \n",
      "     |  __weakref__\n",
      "     |      list of weak references to the object (if defined)\n",
      "\n",
      "FILE\n",
      "    /Users/shobhit/Desktop/allstate/day_3/file.py\n",
      "\n",
      "\n"
     ]
    }
   ],
   "source": [
    "help(file)"
   ]
  },
  {
   "cell_type": "code",
   "execution_count": null,
   "metadata": {},
   "outputs": [],
   "source": []
  }
 ],
 "metadata": {
  "kernelspec": {
   "display_name": "Python 3",
   "language": "python",
   "name": "python3"
  },
  "language_info": {
   "codemirror_mode": {
    "name": "ipython",
    "version": 3
   },
   "file_extension": ".py",
   "mimetype": "text/x-python",
   "name": "python",
   "nbconvert_exporter": "python",
   "pygments_lexer": "ipython3",
   "version": "3.7.7"
  }
 },
 "nbformat": 4,
 "nbformat_minor": 4
}

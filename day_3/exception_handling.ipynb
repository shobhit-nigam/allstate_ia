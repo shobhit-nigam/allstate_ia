{
 "cells": [
  {
   "cell_type": "code",
   "execution_count": 2,
   "metadata": {},
   "outputs": [
    {
     "name": "stdout",
     "output_type": "stream",
     "text": [
      "enter a number:\n",
      "20\n",
      "enter another number:\n",
      "0\n"
     ]
    },
    {
     "ename": "ZeroDivisionError",
     "evalue": "division by zero",
     "output_type": "error",
     "traceback": [
      "\u001b[0;31m---------------------------------------------------------------------------\u001b[0m",
      "\u001b[0;31mZeroDivisionError\u001b[0m                         Traceback (most recent call last)",
      "\u001b[0;32m<ipython-input-2-e833b0922880>\u001b[0m in \u001b[0;36m<module>\u001b[0;34m\u001b[0m\n\u001b[1;32m      2\u001b[0m \u001b[0mvary\u001b[0m \u001b[0;34m=\u001b[0m \u001b[0mint\u001b[0m\u001b[0;34m(\u001b[0m\u001b[0minput\u001b[0m\u001b[0;34m(\u001b[0m\u001b[0;34m\"enter another number:\\n\"\u001b[0m\u001b[0;34m)\u001b[0m\u001b[0;34m)\u001b[0m\u001b[0;34m\u001b[0m\u001b[0;34m\u001b[0m\u001b[0m\n\u001b[1;32m      3\u001b[0m \u001b[0;34m\u001b[0m\u001b[0m\n\u001b[0;32m----> 4\u001b[0;31m \u001b[0mvarz\u001b[0m \u001b[0;34m=\u001b[0m \u001b[0mvarx\u001b[0m\u001b[0;34m/\u001b[0m\u001b[0mvary\u001b[0m\u001b[0;34m\u001b[0m\u001b[0;34m\u001b[0m\u001b[0m\n\u001b[0m\u001b[1;32m      5\u001b[0m \u001b[0;34m\u001b[0m\u001b[0m\n\u001b[1;32m      6\u001b[0m \u001b[0mprint\u001b[0m\u001b[0;34m(\u001b[0m\u001b[0;34m\"\\nthe addition is\"\u001b[0m\u001b[0;34m,\u001b[0m \u001b[0mvarz\u001b[0m\u001b[0;34m)\u001b[0m\u001b[0;34m\u001b[0m\u001b[0;34m\u001b[0m\u001b[0m\n",
      "\u001b[0;31mZeroDivisionError\u001b[0m: division by zero"
     ]
    }
   ],
   "source": [
    "varx = int(input(\"enter a number:\\n\"))\n",
    "vary = int(input(\"enter another number:\\n\"))\n",
    "\n",
    "varz = varx/vary\n",
    "\n",
    "print(\"\\nthe addition is\", varz)"
   ]
  },
  {
   "cell_type": "code",
   "execution_count": 3,
   "metadata": {},
   "outputs": [
    {
     "name": "stdout",
     "output_type": "stream",
     "text": [
      "enter a number:\n",
      "20\n",
      "enter another number:\n",
      "0\n",
      "adding 1 the denominator and numerator \n",
      "\n",
      "the addition is 21.0\n"
     ]
    }
   ],
   "source": [
    "try:\n",
    "    varx = int(input(\"enter a number:\\n\"))\n",
    "    vary = int(input(\"enter another number:\\n\"))\n",
    "\n",
    "    varz = varx/vary\n",
    "\n",
    "    print(\"\\nthe addition is\", varz)\n",
    "except ZeroDivisionError:\n",
    "    vary = vary + 1\n",
    "    varx = varx + 1\n",
    "    print(\"adding 1 the denominator and numerator \")\n",
    "    \n",
    "    varz = varx/vary\n",
    "    print(\"\\nthe addition is\", varz)    "
   ]
  },
  {
   "cell_type": "code",
   "execution_count": 4,
   "metadata": {},
   "outputs": [
    {
     "name": "stdout",
     "output_type": "stream",
     "text": [
      "enter a number:\n",
      "20\n",
      "enter another number:\n",
      "5\n",
      "\n",
      "the addition is 4.0\n"
     ]
    }
   ],
   "source": [
    "try:\n",
    "    varx = int(input(\"enter a number:\\n\"))\n",
    "    vary = int(input(\"enter another number:\\n\"))\n",
    "\n",
    "    varz = varx/vary\n",
    "\n",
    "    print(\"\\nthe division is\", varz)\n",
    "except ZeroDivisionError:\n",
    "    vary = vary + 1\n",
    "    varx = varx + 1\n",
    "    print(\"adding 1 the denominator and numerator \")\n",
    "    \n",
    "    varz = varx/vary\n",
    "    print(\"\\nthe division is\", varz)"
   ]
  },
  {
   "cell_type": "code",
   "execution_count": 5,
   "metadata": {},
   "outputs": [
    {
     "name": "stdout",
     "output_type": "stream",
     "text": [
      "enter a number:\n",
      "20\n",
      "enter another number:\n",
      "six\n"
     ]
    },
    {
     "ename": "ValueError",
     "evalue": "invalid literal for int() with base 10: 'six'",
     "output_type": "error",
     "traceback": [
      "\u001b[0;31m---------------------------------------------------------------------------\u001b[0m",
      "\u001b[0;31mValueError\u001b[0m                                Traceback (most recent call last)",
      "\u001b[0;32m<ipython-input-5-4bc8140e3afd>\u001b[0m in \u001b[0;36m<module>\u001b[0;34m\u001b[0m\n\u001b[1;32m      1\u001b[0m \u001b[0;32mtry\u001b[0m\u001b[0;34m:\u001b[0m\u001b[0;34m\u001b[0m\u001b[0;34m\u001b[0m\u001b[0m\n\u001b[1;32m      2\u001b[0m     \u001b[0mvarx\u001b[0m \u001b[0;34m=\u001b[0m \u001b[0mint\u001b[0m\u001b[0;34m(\u001b[0m\u001b[0minput\u001b[0m\u001b[0;34m(\u001b[0m\u001b[0;34m\"enter a number:\\n\"\u001b[0m\u001b[0;34m)\u001b[0m\u001b[0;34m)\u001b[0m\u001b[0;34m\u001b[0m\u001b[0;34m\u001b[0m\u001b[0m\n\u001b[0;32m----> 3\u001b[0;31m     \u001b[0mvary\u001b[0m \u001b[0;34m=\u001b[0m \u001b[0mint\u001b[0m\u001b[0;34m(\u001b[0m\u001b[0minput\u001b[0m\u001b[0;34m(\u001b[0m\u001b[0;34m\"enter another number:\\n\"\u001b[0m\u001b[0;34m)\u001b[0m\u001b[0;34m)\u001b[0m\u001b[0;34m\u001b[0m\u001b[0;34m\u001b[0m\u001b[0m\n\u001b[0m\u001b[1;32m      4\u001b[0m \u001b[0;34m\u001b[0m\u001b[0m\n\u001b[1;32m      5\u001b[0m     \u001b[0mvarz\u001b[0m \u001b[0;34m=\u001b[0m \u001b[0mvarx\u001b[0m\u001b[0;34m/\u001b[0m\u001b[0mvary\u001b[0m\u001b[0;34m\u001b[0m\u001b[0;34m\u001b[0m\u001b[0m\n",
      "\u001b[0;31mValueError\u001b[0m: invalid literal for int() with base 10: 'six'"
     ]
    }
   ],
   "source": [
    "try:\n",
    "    varx = int(input(\"enter a number:\\n\"))\n",
    "    vary = int(input(\"enter another number:\\n\"))\n",
    "\n",
    "    varz = varx/vary\n",
    "\n",
    "    print(\"\\nthe division is\", varz)\n",
    "except ZeroDivisionError:\n",
    "    vary = vary + 1\n",
    "    varx = varx + 1\n",
    "    print(\"adding 1 the denominator and numerator \")\n",
    "    \n",
    "    varz = varx/vary\n",
    "    print(\"\\nthe division is\", varz)"
   ]
  },
  {
   "cell_type": "code",
   "execution_count": 8,
   "metadata": {},
   "outputs": [
    {
     "name": "stdout",
     "output_type": "stream",
     "text": [
      "enter a number:\n",
      "20\n",
      "enter another number:\n",
      "six\n",
      "you did not enter the right numbers\n",
      "will gracefully exit the code\n"
     ]
    }
   ],
   "source": [
    "try:\n",
    "    varx = int(input(\"enter a number:\\n\"))\n",
    "    vary = int(input(\"enter another number:\\n\"))\n",
    "\n",
    "    varz = varx/vary\n",
    "\n",
    "    print(\"\\nthe division is\", varz)\n",
    "except ZeroDivisionError:\n",
    "    vary = vary + 1\n",
    "    varx = varx + 1\n",
    "    print(\"adding 1 the denominator and numerator \")\n",
    "    \n",
    "    varz = varx/vary\n",
    "    print(\"\\nthe division is\", varz)\n",
    "except ValueError:\n",
    "    print(\"you did not enter the right numbers\")\n",
    "    print(\"will gracefully exit the code\")"
   ]
  },
  {
   "cell_type": "code",
   "execution_count": 9,
   "metadata": {},
   "outputs": [
    {
     "name": "stdout",
     "output_type": "stream",
     "text": [
      "enter a number:\n",
      "20\n",
      "enter another number:\n",
      "5\n",
      "\n",
      "the division is 4.0\n",
      "value at the location = ee\n"
     ]
    }
   ],
   "source": [
    "lista = [\"aa\", \"bb\", \"dd\", \"uu\", \"ee\", \"pp\"]\n",
    "\n",
    "try:\n",
    "    varx = int(input(\"enter a number:\\n\"))\n",
    "    vary = int(input(\"enter another number:\\n\"))\n",
    "\n",
    "    varz = varx/vary\n",
    "\n",
    "    print(\"\\nthe division is\", varz)\n",
    "    varz = int(varz)\n",
    "    \n",
    "    print(\"value at the location =\", lista[varz])\n",
    "except ZeroDivisionError:\n",
    "    vary = vary + 1\n",
    "    varx = varx + 1\n",
    "    print(\"adding 1 the denominator and numerator \")\n",
    "    \n",
    "    varz = varx/vary\n",
    "    print(\"\\nthe division is\", varz)\n",
    "except ValueError:\n",
    "    print(\"you did not enter the right numbers\")\n",
    "    print(\"will gracefully exit the code\")"
   ]
  },
  {
   "cell_type": "code",
   "execution_count": 11,
   "metadata": {},
   "outputs": [
    {
     "name": "stdout",
     "output_type": "stream",
     "text": [
      "enter a number:\n",
      "80\n",
      "enter another number:\n",
      "5\n",
      "\n",
      "the division is 16.0\n"
     ]
    },
    {
     "ename": "IndexError",
     "evalue": "list index out of range",
     "output_type": "error",
     "traceback": [
      "\u001b[0;31m---------------------------------------------------------------------------\u001b[0m",
      "\u001b[0;31mIndexError\u001b[0m                                Traceback (most recent call last)",
      "\u001b[0;32m<ipython-input-11-15f07f4eef9a>\u001b[0m in \u001b[0;36m<module>\u001b[0;34m\u001b[0m\n\u001b[1;32m      8\u001b[0m     \u001b[0mvarz\u001b[0m \u001b[0;34m=\u001b[0m \u001b[0mint\u001b[0m\u001b[0;34m(\u001b[0m\u001b[0mvarz\u001b[0m\u001b[0;34m)\u001b[0m\u001b[0;34m\u001b[0m\u001b[0;34m\u001b[0m\u001b[0m\n\u001b[1;32m      9\u001b[0m \u001b[0;34m\u001b[0m\u001b[0m\n\u001b[0;32m---> 10\u001b[0;31m     \u001b[0mprint\u001b[0m\u001b[0;34m(\u001b[0m\u001b[0;34m\"value at the location =\"\u001b[0m\u001b[0;34m,\u001b[0m \u001b[0mlista\u001b[0m\u001b[0;34m[\u001b[0m\u001b[0mvarz\u001b[0m\u001b[0;34m]\u001b[0m\u001b[0;34m)\u001b[0m\u001b[0;34m\u001b[0m\u001b[0;34m\u001b[0m\u001b[0m\n\u001b[0m\u001b[1;32m     11\u001b[0m \u001b[0;32mexcept\u001b[0m \u001b[0mZeroDivisionError\u001b[0m\u001b[0;34m:\u001b[0m\u001b[0;34m\u001b[0m\u001b[0;34m\u001b[0m\u001b[0m\n\u001b[1;32m     12\u001b[0m     \u001b[0mvary\u001b[0m \u001b[0;34m=\u001b[0m \u001b[0mvary\u001b[0m \u001b[0;34m+\u001b[0m \u001b[0;36m1\u001b[0m\u001b[0;34m\u001b[0m\u001b[0;34m\u001b[0m\u001b[0m\n",
      "\u001b[0;31mIndexError\u001b[0m: list index out of range"
     ]
    }
   ],
   "source": [
    "try:\n",
    "    varx = int(input(\"enter a number:\\n\"))\n",
    "    vary = int(input(\"enter another number:\\n\"))\n",
    "\n",
    "    varz = varx/vary\n",
    "\n",
    "    print(\"\\nthe division is\", varz)\n",
    "    varz = int(varz)\n",
    "    \n",
    "    print(\"value at the location =\", lista[varz])\n",
    "except ZeroDivisionError:\n",
    "    vary = vary + 1\n",
    "    varx = varx + 1\n",
    "    print(\"adding 1 the denominator and numerator \")\n",
    "    \n",
    "    varz = varx/vary\n",
    "    print(\"\\nthe division is\", varz)\n",
    "except ValueError:\n",
    "    print(\"you did not enter the right numbers\")\n",
    "    print(\"will gracefully exit the code\")"
   ]
  },
  {
   "cell_type": "code",
   "execution_count": 12,
   "metadata": {},
   "outputs": [
    {
     "name": "stdout",
     "output_type": "stream",
     "text": [
      "enter a number:\n",
      "20\n",
      "enter another number:\n",
      "1\n",
      "\n",
      "the division is 20.0\n",
      "something went wrong, not sure what\n"
     ]
    }
   ],
   "source": [
    "try:\n",
    "    varx = int(input(\"enter a number:\\n\"))\n",
    "    vary = int(input(\"enter another number:\\n\"))\n",
    "\n",
    "    varz = varx/vary\n",
    "\n",
    "    print(\"\\nthe division is\", varz)\n",
    "    varz = int(varz)\n",
    "    \n",
    "    print(\"value at the location =\", lista[varz])\n",
    "except ZeroDivisionError:\n",
    "    vary = vary + 1\n",
    "    varx = varx + 1\n",
    "    print(\"adding 1 the denominator and numerator \")\n",
    "    \n",
    "    varz = varx/vary\n",
    "    print(\"\\nthe division is\", varz)\n",
    "except ValueError:\n",
    "    print(\"you did not enter the right numbers\")\n",
    "    print(\"will gracefully exit the code\")\n",
    "except:\n",
    "    print(\"something went wrong, not sure what\")"
   ]
  },
  {
   "cell_type": "code",
   "execution_count": 14,
   "metadata": {},
   "outputs": [
    {
     "name": "stdout",
     "output_type": "stream",
     "text": [
      "enter a number:\n",
      "20\n",
      "enter another number:\n",
      "5\n",
      "something went wrong, not sure what\n"
     ]
    }
   ],
   "source": [
    "try:\n",
    "    varx = int(input(\"enter a number:\\n\"))\n",
    "    vary = int(input(\"enter another number:\\n\"))\n",
    "\n",
    "    varz = varx/var0\n",
    "\n",
    "    print(\"\\nthe division is\", varz)\n",
    "    varz = int(varz)\n",
    "    \n",
    "    print(\"value at the location =\", lista[varz])\n",
    "except ZeroDivisionError:\n",
    "    vary = vary + 1\n",
    "    varx = varx + 1\n",
    "    print(\"adding 1 the denominator and numerator \")\n",
    "    \n",
    "    varz = varx/vary\n",
    "    print(\"\\nthe division is\", varz)\n",
    "except ValueError:\n",
    "    print(\"you did not enter the right numbers\")\n",
    "    print(\"will gracefully exit the code\")\n",
    "except:\n",
    "    print(\"something went wrong, not sure what\")"
   ]
  },
  {
   "cell_type": "code",
   "execution_count": 15,
   "metadata": {},
   "outputs": [
    {
     "ename": "SyntaxError",
     "evalue": "invalid syntax (<ipython-input-15-f0ccac94b0f1>, line 11)",
     "output_type": "error",
     "traceback": [
      "\u001b[0;36m  File \u001b[0;32m\"<ipython-input-15-f0ccac94b0f1>\"\u001b[0;36m, line \u001b[0;32m11\u001b[0m\n\u001b[0;31m    print(\"hey\")\u001b[0m\n\u001b[0m        ^\u001b[0m\n\u001b[0;31mSyntaxError\u001b[0m\u001b[0;31m:\u001b[0m invalid syntax\n"
     ]
    }
   ],
   "source": [
    "try:\n",
    "    varx = int(input(\"enter a number:\\n\"))\n",
    "    vary = int(input(\"enter another number:\\n\"))\n",
    "\n",
    "    varz = varx/var0\n",
    "\n",
    "    print(\"\\nthe division is\", varz)\n",
    "    varz = int(varz)\n",
    "    \n",
    "    print(\"value at the location =\", lista[varz])\n",
    "except ZeroDivisionError:\n",
    "    vary = vary + 1\n",
    "    varx = varx + 1\n",
    "    print(\"adding 1 the denominator and numerator \")\n",
    "    \n",
    "    varz = varx/vary\n",
    "    print(\"\\nthe division is\", varz)\n",
    "except ValueError:\n",
    "    print(\"you did not enter the right numbers\")\n",
    "    print(\"will gracefully exit the code\")\n",
    "except:\n",
    "    print(\"something went wrong, not sure what\")"
   ]
  },
  {
   "cell_type": "code",
   "execution_count": 16,
   "metadata": {},
   "outputs": [
    {
     "ename": "SyntaxError",
     "evalue": "default 'except:' must be last (<ipython-input-16-414f6d406795>, line 13)",
     "output_type": "error",
     "traceback": [
      "\u001b[0;36m  File \u001b[0;32m\"<ipython-input-16-414f6d406795>\"\u001b[0;36m, line \u001b[0;32m13\u001b[0m\n\u001b[0;31m    except ZeroDivisionError:\u001b[0m\n\u001b[0m                             \n^\u001b[0m\n\u001b[0;31mSyntaxError\u001b[0m\u001b[0;31m:\u001b[0m default 'except:' must be last\n"
     ]
    }
   ],
   "source": [
    "try:\n",
    "    varx = int(input(\"enter a number:\\n\"))\n",
    "    vary = int(input(\"enter another number:\\n\"))\n",
    "\n",
    "    varz = varx/var0\n",
    "\n",
    "    print(\"\\nthe division is\", varz)\n",
    "    varz = int(varz)\n",
    "    \n",
    "    print(\"value at the location =\", lista[varz])\n",
    "except:\n",
    "    print(\"something went wrong, not sure what\")\n",
    "except ZeroDivisionError:\n",
    "    vary = vary + 1\n",
    "    varx = varx + 1\n",
    "    print(\"adding 1 the denominator and numerator \")\n",
    "    \n",
    "    varz = varx/vary\n",
    "    print(\"\\nthe division is\", varz)\n",
    "except ValueError:\n",
    "    print(\"you did not enter the right numbers\")\n",
    "    print(\"will gracefully exit the code\")"
   ]
  },
  {
   "cell_type": "code",
   "execution_count": null,
   "metadata": {},
   "outputs": [],
   "source": [
    "try:\n",
    "    varx = int(input(\"enter a number:\\n\"))\n",
    "    vary = int(input(\"enter another number:\\n\"))\n",
    "\n",
    "    varz = varx/var0\n",
    "    try:\n",
    "        blah blah\n",
    "    except:\n",
    "        kas\n",
    "        ae;dke\n",
    "\n",
    "    print(\"\\nthe division is\", varz)\n",
    "    varz = int(varz)\n",
    "    \n",
    "    print(\"value at the location =\", lista[varz])\n",
    "except:\n",
    "    print(\"something went wrong, not sure what\")\n",
    "except ZeroDivisionError:\n",
    "    vary = vary + 1\n",
    "    varx = varx + 1\n",
    "    print(\"adding 1 the denominator and numerator \")\n",
    "    \n",
    "    varz = varx/vary\n",
    "    print(\"\\nthe division is\", varz)\n",
    "except ValueError:\n",
    "    print(\"you did not enter the right numbers\")\n",
    "    print(\"will gracefully exit the code\")"
   ]
  },
  {
   "cell_type": "code",
   "execution_count": 17,
   "metadata": {},
   "outputs": [],
   "source": [
    "lista = [\"aa\", \"bb\", \"dd\", \"uu\", \"ee\", \"pp\"]"
   ]
  },
  {
   "cell_type": "code",
   "execution_count": 18,
   "metadata": {
    "scrolled": false
   },
   "outputs": [
    {
     "name": "stdout",
     "output_type": "stream",
     "text": [
      "enter a number:\n",
      "11\n",
      "you went out of range, defaulting to 0\n",
      "value is = bb\n",
      "finally executes\n",
      "the code continues.....\n"
     ]
    }
   ],
   "source": [
    "try:\n",
    "    i = int(input(\"enter a number:\\n\"))\n",
    "    print(\"value is =\", lista[i])\n",
    "except IndexError:\n",
    "    print(\"you went out of range, defaulting to 0\")\n",
    "    print(\"value is =\", lista[1])\n",
    "else:\n",
    "    print(\"so the else block executes\")\n",
    "finally:\n",
    "    print(\"finally executes\")\n",
    "\n",
    "print(\"the code continues.....\")"
   ]
  },
  {
   "cell_type": "code",
   "execution_count": 19,
   "metadata": {},
   "outputs": [
    {
     "name": "stdout",
     "output_type": "stream",
     "text": [
      "enter a number:\n",
      "4\n",
      "value is = ee\n",
      "so the else block executes\n",
      "finally executes\n",
      "the code continues.....\n"
     ]
    }
   ],
   "source": [
    "try:\n",
    "    i = int(input(\"enter a number:\\n\"))\n",
    "    print(\"value is =\", lista[i])\n",
    "except IndexError:\n",
    "    print(\"you went out of range, defaulting to 0\")\n",
    "    print(\"value is =\", lista[1])\n",
    "else:\n",
    "    print(\"so the else block executes\")\n",
    "finally:\n",
    "    print(\"finally executes\")\n",
    "\n",
    "print(\"the code continues.....\")"
   ]
  },
  {
   "cell_type": "code",
   "execution_count": 20,
   "metadata": {},
   "outputs": [
    {
     "name": "stdout",
     "output_type": "stream",
     "text": [
      "enter a number:\n",
      "six\n",
      "finally executes\n"
     ]
    },
    {
     "ename": "ValueError",
     "evalue": "invalid literal for int() with base 10: 'six'",
     "output_type": "error",
     "traceback": [
      "\u001b[0;31m---------------------------------------------------------------------------\u001b[0m",
      "\u001b[0;31mValueError\u001b[0m                                Traceback (most recent call last)",
      "\u001b[0;32m<ipython-input-20-281d7918be1a>\u001b[0m in \u001b[0;36m<module>\u001b[0;34m\u001b[0m\n\u001b[1;32m      1\u001b[0m \u001b[0;32mtry\u001b[0m\u001b[0;34m:\u001b[0m\u001b[0;34m\u001b[0m\u001b[0;34m\u001b[0m\u001b[0m\n\u001b[0;32m----> 2\u001b[0;31m     \u001b[0mi\u001b[0m \u001b[0;34m=\u001b[0m \u001b[0mint\u001b[0m\u001b[0;34m(\u001b[0m\u001b[0minput\u001b[0m\u001b[0;34m(\u001b[0m\u001b[0;34m\"enter a number:\\n\"\u001b[0m\u001b[0;34m)\u001b[0m\u001b[0;34m)\u001b[0m\u001b[0;34m\u001b[0m\u001b[0;34m\u001b[0m\u001b[0m\n\u001b[0m\u001b[1;32m      3\u001b[0m     \u001b[0mprint\u001b[0m\u001b[0;34m(\u001b[0m\u001b[0;34m\"value is =\"\u001b[0m\u001b[0;34m,\u001b[0m \u001b[0mlista\u001b[0m\u001b[0;34m[\u001b[0m\u001b[0mi\u001b[0m\u001b[0;34m]\u001b[0m\u001b[0;34m)\u001b[0m\u001b[0;34m\u001b[0m\u001b[0;34m\u001b[0m\u001b[0m\n\u001b[1;32m      4\u001b[0m \u001b[0;32mexcept\u001b[0m \u001b[0mIndexError\u001b[0m\u001b[0;34m:\u001b[0m\u001b[0;34m\u001b[0m\u001b[0;34m\u001b[0m\u001b[0m\n\u001b[1;32m      5\u001b[0m     \u001b[0mprint\u001b[0m\u001b[0;34m(\u001b[0m\u001b[0;34m\"you went out of range, defaulting to 0\"\u001b[0m\u001b[0;34m)\u001b[0m\u001b[0;34m\u001b[0m\u001b[0;34m\u001b[0m\u001b[0m\n",
      "\u001b[0;31mValueError\u001b[0m: invalid literal for int() with base 10: 'six'"
     ]
    }
   ],
   "source": [
    "try:\n",
    "    i = int(input(\"enter a number:\\n\"))\n",
    "    print(\"value is =\", lista[i])\n",
    "except IndexError:\n",
    "    print(\"you went out of range, defaulting to 0\")\n",
    "    print(\"value is =\", lista[1])\n",
    "else:\n",
    "    print(\"so the else block executes\")\n",
    "finally:\n",
    "    print(\"finally executes\")\n",
    "\n",
    "print(\"the code continues.....\")"
   ]
  },
  {
   "cell_type": "code",
   "execution_count": null,
   "metadata": {},
   "outputs": [],
   "source": []
  }
 ],
 "metadata": {
  "kernelspec": {
   "display_name": "Python 3",
   "language": "python",
   "name": "python3"
  },
  "language_info": {
   "codemirror_mode": {
    "name": "ipython",
    "version": 3
   },
   "file_extension": ".py",
   "mimetype": "text/x-python",
   "name": "python",
   "nbconvert_exporter": "python",
   "pygments_lexer": "ipython3",
   "version": "3.7.7"
  }
 },
 "nbformat": 4,
 "nbformat_minor": 4
}

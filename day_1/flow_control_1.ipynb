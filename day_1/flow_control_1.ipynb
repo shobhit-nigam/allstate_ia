{
 "cells": [
  {
   "cell_type": "code",
   "execution_count": 1,
   "metadata": {},
   "outputs": [],
   "source": [
    "one = True\n",
    "two = False"
   ]
  },
  {
   "cell_type": "code",
   "execution_count": 2,
   "metadata": {},
   "outputs": [
    {
     "name": "stdout",
     "output_type": "stream",
     "text": [
      "<class 'bool'>\n"
     ]
    }
   ],
   "source": [
    "print(type(one))"
   ]
  },
  {
   "cell_type": "code",
   "execution_count": 3,
   "metadata": {},
   "outputs": [
    {
     "name": "stdout",
     "output_type": "stream",
     "text": [
      "hello\n"
     ]
    }
   ],
   "source": [
    "if one:\n",
    "    print(\"hello\")"
   ]
  },
  {
   "cell_type": "code",
   "execution_count": 4,
   "metadata": {},
   "outputs": [],
   "source": [
    "if two:\n",
    "    print(\"hello\")"
   ]
  },
  {
   "cell_type": "code",
   "execution_count": 5,
   "metadata": {},
   "outputs": [],
   "source": [
    "varx = 30\n",
    "vary = 40\n",
    "varz = 0"
   ]
  },
  {
   "cell_type": "code",
   "execution_count": 6,
   "metadata": {},
   "outputs": [
    {
     "name": "stdout",
     "output_type": "stream",
     "text": [
      "move left\n",
      "keep gloing\n",
      "and move again after 1 minute\n"
     ]
    }
   ],
   "source": [
    "if varx < vary:\n",
    "    print(\"move left\")\n",
    "    print(\"keep gloing\")\n",
    "else:\n",
    "    print(\"move right\")\n",
    "    print(\"stop at 100 metres\")\n",
    "print(\"and move again after 1 minute\")"
   ]
  },
  {
   "cell_type": "code",
   "execution_count": 7,
   "metadata": {},
   "outputs": [
    {
     "name": "stdout",
     "output_type": "stream",
     "text": [
      "move right\n",
      "stop at 100 metres\n",
      "and move again after 1 minute\n"
     ]
    }
   ],
   "source": [
    "if varx > vary:\n",
    "    print(\"move left\")\n",
    "    print(\"keep gloing\")\n",
    "else:\n",
    "    print(\"move right\")\n",
    "    print(\"stop at 100 metres\")\n",
    "print(\"and move again after 1 minute\")"
   ]
  },
  {
   "cell_type": "code",
   "execution_count": 9,
   "metadata": {},
   "outputs": [
    {
     "ename": "IndentationError",
     "evalue": "unindent does not match any outer indentation level (<tokenize>, line 6)",
     "output_type": "error",
     "traceback": [
      "\u001b[0;36m  File \u001b[0;32m\"<tokenize>\"\u001b[0;36m, line \u001b[0;32m6\u001b[0m\n\u001b[0;31m    print(\"stop at 100 metres\")\u001b[0m\n\u001b[0m    ^\u001b[0m\n\u001b[0;31mIndentationError\u001b[0m\u001b[0;31m:\u001b[0m unindent does not match any outer indentation level\n"
     ]
    }
   ],
   "source": [
    "if varx > vary:\n",
    "    print(\"move left\")\n",
    "    print(\"keep gloing\")\n",
    "else:\n",
    "    print(\"move right\")\n",
    "   print(\"stop at 100 metres\")\n",
    "print(\"and move again after 1 minute\")"
   ]
  },
  {
   "cell_type": "code",
   "execution_count": 10,
   "metadata": {},
   "outputs": [
    {
     "name": "stdout",
     "output_type": "stream",
     "text": [
      "move right\n",
      "stop at 100 metres\n",
      "and move again after 1 minute\n"
     ]
    }
   ],
   "source": [
    "if (varx < vary) and (varx < varz):\n",
    "    print(\"move left\")\n",
    "    print(\"keep gloing\")\n",
    "else:\n",
    "    print(\"move right\")\n",
    "    print(\"stop at 100 metres\")\n",
    "print(\"and move again after 1 minute\")"
   ]
  },
  {
   "cell_type": "code",
   "execution_count": 11,
   "metadata": {},
   "outputs": [
    {
     "name": "stdout",
     "output_type": "stream",
     "text": [
      "move left\n",
      "keep gloing\n",
      "and move again after 1 minute\n"
     ]
    }
   ],
   "source": [
    "if (varx < vary) or (varx < varz):\n",
    "    print(\"move left\")\n",
    "    print(\"keep gloing\")\n",
    "else:\n",
    "    print(\"move right\")\n",
    "    print(\"stop at 100 metres\")\n",
    "print(\"and move again after 1 minute\")"
   ]
  },
  {
   "cell_type": "code",
   "execution_count": 12,
   "metadata": {},
   "outputs": [
    {
     "name": "stdout",
     "output_type": "stream",
     "text": [
      "your fees = 1235.0\n"
     ]
    }
   ],
   "source": [
    "age = 40\n",
    "earning = 12000\n",
    "gender = 'm'\n",
    "fees = 1300\n",
    "\n",
    "\n",
    "if age < 25 and earning > 1000:\n",
    "    print(\"your fees = \", fees*0.9)\n",
    "elif age >= 25 and age <40:\n",
    "    if gender == 'm':\n",
    "        print(\"your fees = \", fees*0.94)\n",
    "    else:\n",
    "        print(\"your fees = \", fees*0.9)\n",
    "elif age >=40 and age <=60:\n",
    "    print(\"your fees =\", fees*0.95)\n",
    "else:\n",
    "    print(\"your fees =\", fees*0.85)"
   ]
  },
  {
   "cell_type": "code",
   "execution_count": 16,
   "metadata": {},
   "outputs": [
    {
     "name": "stdout",
     "output_type": "stream",
     "text": [
      "enter age: 28\n",
      "enter income: 1200\n",
      "enter gender: male\n",
      "your fees =  1170.0\n"
     ]
    }
   ],
   "source": [
    "age = int(input(\"enter age: \"))\n",
    "earning = int(input(\"enter income: \"))\n",
    "gender = input(\"enter gender: \")\n",
    "fees = 1300\n",
    "\n",
    "\n",
    "if age < 25 and earning > 1000:\n",
    "    print(\"your fees = \", fees*0.9)\n",
    "elif age >= 25 and age <40:\n",
    "    if gender == 'm' and gender == 'male':\n",
    "        print(\"your fees = \", fees*0.94)\n",
    "    else:\n",
    "        print(\"your fees = \", fees*0.9)\n",
    "elif age >=40 and age <=60:\n",
    "    print(\"your fees =\", fees*0.95)\n",
    "else:\n",
    "    print(\"your fees =\", fees*0.85)"
   ]
  },
  {
   "cell_type": "code",
   "execution_count": 17,
   "metadata": {},
   "outputs": [
    {
     "name": "stdout",
     "output_type": "stream",
     "text": [
      "value = 11\n",
      "value = 12\n",
      "value = 13\n",
      "value = 14\n"
     ]
    }
   ],
   "source": [
    "varx = 11\n",
    "\n",
    "while(varx < 15):\n",
    "    print(\"value =\", varx)\n",
    "    varx = varx+1"
   ]
  },
  {
   "cell_type": "code",
   "execution_count": 18,
   "metadata": {},
   "outputs": [],
   "source": [
    "varx = 11\n",
    "vary = 20\n",
    "\n",
    "while(varx < 15 and vary > 30):\n",
    "    print(\"value =\", varx)\n",
    "    varx = varx+1"
   ]
  },
  {
   "cell_type": "code",
   "execution_count": 19,
   "metadata": {},
   "outputs": [],
   "source": [
    "cities = ['cairo', 'lima', 'madrid', 'melbourne', 'mexico city', 'new delhi', 'seol', 'tokyo']"
   ]
  },
  {
   "cell_type": "code",
   "execution_count": 20,
   "metadata": {},
   "outputs": [
    {
     "name": "stdout",
     "output_type": "stream",
     "text": [
      "i = 0\n",
      "i = 1\n",
      "i = 2\n",
      "i = 3\n",
      "i = 4\n"
     ]
    }
   ],
   "source": [
    "for i in range(5):\n",
    "    print(\"i =\", i)"
   ]
  },
  {
   "cell_type": "code",
   "execution_count": 21,
   "metadata": {},
   "outputs": [
    {
     "name": "stdout",
     "output_type": "stream",
     "text": [
      "x = 0\n",
      "x = 1\n",
      "x = 2\n",
      "x = 3\n",
      "x = 4\n"
     ]
    }
   ],
   "source": [
    "for x in range(5):\n",
    "    print(\"x =\", x)"
   ]
  },
  {
   "cell_type": "code",
   "execution_count": 22,
   "metadata": {},
   "outputs": [
    {
     "name": "stdout",
     "output_type": "stream",
     "text": [
      "x = 2\n",
      "x = 3\n",
      "x = 4\n",
      "x = 5\n",
      "x = 6\n",
      "x = 7\n"
     ]
    }
   ],
   "source": [
    "for x in range(2, 8):\n",
    "    print(\"x =\", x)"
   ]
  },
  {
   "cell_type": "code",
   "execution_count": 23,
   "metadata": {},
   "outputs": [
    {
     "name": "stdout",
     "output_type": "stream",
     "text": [
      "madrid\n",
      "melbourne\n",
      "mexico city\n",
      "new delhi\n"
     ]
    }
   ],
   "source": [
    "for x in range(2, 6):\n",
    "    print(cities[x])"
   ]
  },
  {
   "cell_type": "code",
   "execution_count": 24,
   "metadata": {},
   "outputs": [
    {
     "name": "stdout",
     "output_type": "stream",
     "text": [
      "lima\n",
      "madrid\n",
      "melbourne\n"
     ]
    }
   ],
   "source": [
    "for x in range(1, 4):\n",
    "    print(cities[x])"
   ]
  },
  {
   "cell_type": "code",
   "execution_count": 25,
   "metadata": {},
   "outputs": [
    {
     "name": "stdout",
     "output_type": "stream",
     "text": [
      "x = 2\n",
      "x = 5\n",
      "x = 8\n",
      "x = 11\n",
      "x = 14\n",
      "x = 17\n",
      "x = 20\n"
     ]
    }
   ],
   "source": [
    "for x in range(2, 22, 3):\n",
    "    print(\"x =\", x)"
   ]
  },
  {
   "cell_type": "code",
   "execution_count": 26,
   "metadata": {},
   "outputs": [
    {
     "name": "stdout",
     "output_type": "stream",
     "text": [
      "x = 6\n",
      "x = 5\n",
      "x = 4\n",
      "x = 3\n"
     ]
    }
   ],
   "source": [
    "for x in range(6, 2, -1):\n",
    "    print(\"x =\", x)"
   ]
  },
  {
   "cell_type": "code",
   "execution_count": 27,
   "metadata": {},
   "outputs": [
    {
     "data": {
      "text/plain": [
       "['cairo',\n",
       " 'lima',\n",
       " 'madrid',\n",
       " 'melbourne',\n",
       " 'mexico city',\n",
       " 'new delhi',\n",
       " 'seol',\n",
       " 'tokyo']"
      ]
     },
     "execution_count": 27,
     "metadata": {},
     "output_type": "execute_result"
    }
   ],
   "source": [
    "cities"
   ]
  },
  {
   "cell_type": "code",
   "execution_count": 28,
   "metadata": {},
   "outputs": [
    {
     "name": "stdout",
     "output_type": "stream",
     "text": [
      "x = cairo\n",
      "x = lima\n",
      "x = madrid\n",
      "x = melbourne\n",
      "x = mexico city\n",
      "x = new delhi\n",
      "x = seol\n",
      "x = tokyo\n"
     ]
    }
   ],
   "source": [
    "for x in cities:\n",
    "    print(\"x =\", x)"
   ]
  },
  {
   "cell_type": "code",
   "execution_count": 29,
   "metadata": {},
   "outputs": [
    {
     "name": "stdout",
     "output_type": "stream",
     "text": [
      "x = lima\n",
      "x = madrid\n",
      "x = melbourne\n",
      "x = mexico city\n",
      "x = new delhi\n"
     ]
    }
   ],
   "source": [
    "for x in cities[1:6]:\n",
    "    print(\"x =\", x)"
   ]
  },
  {
   "cell_type": "code",
   "execution_count": 30,
   "metadata": {},
   "outputs": [
    {
     "name": "stdout",
     "output_type": "stream",
     "text": [
      "found it\n"
     ]
    }
   ],
   "source": [
    "for x in cities:\n",
    "    if x == 'melbourne':\n",
    "        print('found it')"
   ]
  },
  {
   "cell_type": "code",
   "execution_count": 31,
   "metadata": {},
   "outputs": [
    {
     "name": "stdout",
     "output_type": "stream",
     "text": [
      "not found\n",
      "not found\n",
      "not found\n",
      "found it\n",
      "not found\n",
      "not found\n",
      "not found\n",
      "not found\n"
     ]
    }
   ],
   "source": [
    "for x in cities:\n",
    "    if x == 'melbourne':\n",
    "        print('found it')\n",
    "    else:\n",
    "        print(\"not found\")"
   ]
  },
  {
   "cell_type": "code",
   "execution_count": 32,
   "metadata": {},
   "outputs": [
    {
     "name": "stdout",
     "output_type": "stream",
     "text": [
      "not found\n",
      "not found\n",
      "not found\n",
      "found it\n"
     ]
    }
   ],
   "source": [
    "for x in cities:\n",
    "    if x == 'melbourne':\n",
    "        print('found it')\n",
    "        break\n",
    "    else:\n",
    "        print(\"not found\")"
   ]
  },
  {
   "cell_type": "code",
   "execution_count": 33,
   "metadata": {},
   "outputs": [
    {
     "data": {
      "text/plain": [
       "['cairo',\n",
       " 'lima',\n",
       " 'madrid',\n",
       " 'melbourne',\n",
       " 'mexico city',\n",
       " 'new delhi',\n",
       " 'seol',\n",
       " 'tokyo']"
      ]
     },
     "execution_count": 33,
     "metadata": {},
     "output_type": "execute_result"
    }
   ],
   "source": [
    "cities"
   ]
  },
  {
   "cell_type": "code",
   "execution_count": 34,
   "metadata": {},
   "outputs": [
    {
     "name": "stdout",
     "output_type": "stream",
     "text": [
      "melbourne\n"
     ]
    }
   ],
   "source": [
    "print(x)"
   ]
  },
  {
   "cell_type": "code",
   "execution_count": 35,
   "metadata": {},
   "outputs": [
    {
     "name": "stdout",
     "output_type": "stream",
     "text": [
      "found it\n"
     ]
    }
   ],
   "source": [
    "for x in cities:\n",
    "    if x == 'melbourne':\n",
    "        print('found it')\n",
    "        break\n",
    "else:\n",
    "    print(\"not found\")"
   ]
  },
  {
   "cell_type": "code",
   "execution_count": 36,
   "metadata": {},
   "outputs": [
    {
     "name": "stdout",
     "output_type": "stream",
     "text": [
      "not found\n"
     ]
    }
   ],
   "source": [
    "for x in cities:\n",
    "    if x == 'hamilton':\n",
    "        print('found it')\n",
    "        break\n",
    "else:\n",
    "    print(\"not found\")"
   ]
  },
  {
   "cell_type": "code",
   "execution_count": 37,
   "metadata": {},
   "outputs": [
    {
     "data": {
      "text/plain": [
       "False"
      ]
     },
     "execution_count": 37,
     "metadata": {},
     "output_type": "execute_result"
    }
   ],
   "source": [
    "\"hamilton\" in cities"
   ]
  },
  {
   "cell_type": "code",
   "execution_count": 38,
   "metadata": {},
   "outputs": [
    {
     "data": {
      "text/plain": [
       "True"
      ]
     },
     "execution_count": 38,
     "metadata": {},
     "output_type": "execute_result"
    }
   ],
   "source": [
    "\"hamilton\" not in cities"
   ]
  },
  {
   "cell_type": "code",
   "execution_count": 39,
   "metadata": {},
   "outputs": [],
   "source": [
    "cities = ['cairo', 'lima', 'madrid', 'melbourne', 'mexico city', 'new delhi', 'seol', 'tokyo']\n",
    "\n",
    "places = ['singapore', 'johanesberg', 'madrid', 'munich', 'manila', 'seol']"
   ]
  },
  {
   "cell_type": "code",
   "execution_count": 40,
   "metadata": {},
   "outputs": [
    {
     "name": "stdout",
     "output_type": "stream",
     "text": [
      "madrid\n",
      "seol\n"
     ]
    }
   ],
   "source": [
    "for x in cities:\n",
    "    if x in places:\n",
    "        print(x)"
   ]
  },
  {
   "cell_type": "code",
   "execution_count": 41,
   "metadata": {},
   "outputs": [],
   "source": [
    "common = []\n",
    "\n",
    "for x in cities:\n",
    "    if x in places:\n",
    "        common.append(x)"
   ]
  },
  {
   "cell_type": "code",
   "execution_count": 42,
   "metadata": {},
   "outputs": [
    {
     "name": "stdout",
     "output_type": "stream",
     "text": [
      "['madrid', 'seol']\n"
     ]
    }
   ],
   "source": [
    "print(common)"
   ]
  },
  {
   "cell_type": "code",
   "execution_count": 43,
   "metadata": {},
   "outputs": [],
   "source": [
    "capitals = {'argentina':'buenos aires', 'chile':'santiago', 'peru':'lima', 'colombia':'bogota'}"
   ]
  },
  {
   "cell_type": "code",
   "execution_count": 44,
   "metadata": {},
   "outputs": [
    {
     "name": "stdout",
     "output_type": "stream",
     "text": [
      "argentina\n",
      "chile\n",
      "peru\n",
      "colombia\n"
     ]
    }
   ],
   "source": [
    "for x in capitals:\n",
    "    print(x)"
   ]
  },
  {
   "cell_type": "code",
   "execution_count": 45,
   "metadata": {},
   "outputs": [
    {
     "name": "stdout",
     "output_type": "stream",
     "text": [
      "buenos aires\n",
      "santiago\n",
      "lima\n",
      "bogota\n"
     ]
    }
   ],
   "source": [
    "for x in capitals.values():\n",
    "    print(x)"
   ]
  },
  {
   "cell_type": "code",
   "execution_count": 46,
   "metadata": {},
   "outputs": [
    {
     "name": "stdout",
     "output_type": "stream",
     "text": [
      "argentina \t buenos aires\n",
      "chile \t santiago\n",
      "peru \t lima\n",
      "colombia \t bogota\n"
     ]
    }
   ],
   "source": [
    "for k, v in capitals.items():\n",
    "    print(k, \"\\t\", v)"
   ]
  },
  {
   "cell_type": "code",
   "execution_count": null,
   "metadata": {},
   "outputs": [],
   "source": []
  }
 ],
 "metadata": {
  "kernelspec": {
   "display_name": "Python 3",
   "language": "python",
   "name": "python3"
  },
  "language_info": {
   "codemirror_mode": {
    "name": "ipython",
    "version": 3
   },
   "file_extension": ".py",
   "mimetype": "text/x-python",
   "name": "python",
   "nbconvert_exporter": "python",
   "pygments_lexer": "ipython3",
   "version": "3.7.7"
  }
 },
 "nbformat": 4,
 "nbformat_minor": 4
}

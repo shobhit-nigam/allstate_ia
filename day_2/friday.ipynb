{
 "cells": [
  {
   "cell_type": "code",
   "execution_count": 1,
   "metadata": {},
   "outputs": [],
   "source": [
    "from colours import blue, green"
   ]
  },
  {
   "cell_type": "code",
   "execution_count": 2,
   "metadata": {},
   "outputs": [
    {
     "name": "stdout",
     "output_type": "stream",
     "text": [
      "cool blue\n"
     ]
    }
   ],
   "source": [
    "blue()"
   ]
  },
  {
   "cell_type": "code",
   "execution_count": 3,
   "metadata": {},
   "outputs": [
    {
     "ename": "NameError",
     "evalue": "name 'yellow' is not defined",
     "output_type": "error",
     "traceback": [
      "\u001b[0;31m---------------------------------------------------------------------------\u001b[0m",
      "\u001b[0;31mNameError\u001b[0m                                 Traceback (most recent call last)",
      "\u001b[0;32m<ipython-input-3-6f36898500ae>\u001b[0m in \u001b[0;36m<module>\u001b[0;34m\u001b[0m\n\u001b[0;32m----> 1\u001b[0;31m \u001b[0myellow\u001b[0m\u001b[0;34m(\u001b[0m\u001b[0;34m)\u001b[0m\u001b[0;34m\u001b[0m\u001b[0;34m\u001b[0m\u001b[0m\n\u001b[0m",
      "\u001b[0;31mNameError\u001b[0m: name 'yellow' is not defined"
     ]
    }
   ],
   "source": [
    "yellow()"
   ]
  },
  {
   "cell_type": "code",
   "execution_count": 4,
   "metadata": {},
   "outputs": [
    {
     "name": "stdout",
     "output_type": "stream",
     "text": [
      "green needs blue & yellow\n",
      "cool blue\n",
      "fall yellow\n"
     ]
    }
   ],
   "source": [
    "green()"
   ]
  },
  {
   "cell_type": "code",
   "execution_count": 5,
   "metadata": {},
   "outputs": [
    {
     "name": "stdout",
     "output_type": "stream",
     "text": [
      "Help on function green in module colours:\n",
      "\n",
      "green()\n",
      "    go green\n",
      "\n"
     ]
    }
   ],
   "source": [
    "help(green)"
   ]
  },
  {
   "cell_type": "code",
   "execution_count": 6,
   "metadata": {},
   "outputs": [],
   "source": [
    "import colours"
   ]
  },
  {
   "cell_type": "code",
   "execution_count": 7,
   "metadata": {},
   "outputs": [
    {
     "name": "stdout",
     "output_type": "stream",
     "text": [
      "Help on module colours:\n",
      "\n",
      "NAME\n",
      "    colours\n",
      "\n",
      "FUNCTIONS\n",
      "    blue()\n",
      "        function to paint it all blue\n",
      "    \n",
      "    green()\n",
      "        go green\n",
      "    \n",
      "    yellow()\n",
      "        function to paint it all yellow\n",
      "\n",
      "FILE\n",
      "    /Users/shobhit/Desktop/allstate/day_2/colours.py\n",
      "\n",
      "\n"
     ]
    }
   ],
   "source": [
    "help(colours)"
   ]
  },
  {
   "cell_type": "code",
   "execution_count": 8,
   "metadata": {},
   "outputs": [
    {
     "name": "stdout",
     "output_type": "stream",
     "text": [
      "cool blue\n"
     ]
    }
   ],
   "source": [
    "colours.blue()"
   ]
  },
  {
   "cell_type": "code",
   "execution_count": 9,
   "metadata": {},
   "outputs": [
    {
     "ename": "AttributeError",
     "evalue": "module 'colours' has no attribute 'data1'",
     "output_type": "error",
     "traceback": [
      "\u001b[0;31m---------------------------------------------------------------------------\u001b[0m",
      "\u001b[0;31mAttributeError\u001b[0m                            Traceback (most recent call last)",
      "\u001b[0;32m<ipython-input-9-8b2eef80a52c>\u001b[0m in \u001b[0;36m<module>\u001b[0;34m\u001b[0m\n\u001b[0;32m----> 1\u001b[0;31m \u001b[0mcolours\u001b[0m\u001b[0;34m.\u001b[0m\u001b[0mdata1\u001b[0m\u001b[0;34m\u001b[0m\u001b[0;34m\u001b[0m\u001b[0m\n\u001b[0m",
      "\u001b[0;31mAttributeError\u001b[0m: module 'colours' has no attribute 'data1'"
     ]
    }
   ],
   "source": [
    "colours.data1"
   ]
  },
  {
   "cell_type": "code",
   "execution_count": 10,
   "metadata": {},
   "outputs": [],
   "source": [
    "import colours"
   ]
  },
  {
   "cell_type": "code",
   "execution_count": 11,
   "metadata": {},
   "outputs": [
    {
     "ename": "AttributeError",
     "evalue": "module 'colours' has no attribute 'data1'",
     "output_type": "error",
     "traceback": [
      "\u001b[0;31m---------------------------------------------------------------------------\u001b[0m",
      "\u001b[0;31mAttributeError\u001b[0m                            Traceback (most recent call last)",
      "\u001b[0;32m<ipython-input-11-8b2eef80a52c>\u001b[0m in \u001b[0;36m<module>\u001b[0;34m\u001b[0m\n\u001b[0;32m----> 1\u001b[0;31m \u001b[0mcolours\u001b[0m\u001b[0;34m.\u001b[0m\u001b[0mdata1\u001b[0m\u001b[0;34m\u001b[0m\u001b[0;34m\u001b[0m\u001b[0m\n\u001b[0m",
      "\u001b[0;31mAttributeError\u001b[0m: module 'colours' has no attribute 'data1'"
     ]
    }
   ],
   "source": [
    "colours.data1"
   ]
  },
  {
   "cell_type": "code",
   "execution_count": 12,
   "metadata": {},
   "outputs": [],
   "source": [
    "import importlib"
   ]
  },
  {
   "cell_type": "code",
   "execution_count": 13,
   "metadata": {},
   "outputs": [
    {
     "data": {
      "text/plain": [
       "<module 'colours' from '/Users/shobhit/Desktop/allstate/day_2/colours.py'>"
      ]
     },
     "execution_count": 13,
     "metadata": {},
     "output_type": "execute_result"
    }
   ],
   "source": [
    "importlib.reload(colours)"
   ]
  },
  {
   "cell_type": "code",
   "execution_count": 14,
   "metadata": {},
   "outputs": [
    {
     "data": {
      "text/plain": [
       "300"
      ]
     },
     "execution_count": 14,
     "metadata": {},
     "output_type": "execute_result"
    }
   ],
   "source": [
    "colours.data1"
   ]
  },
  {
   "cell_type": "code",
   "execution_count": 15,
   "metadata": {},
   "outputs": [
    {
     "name": "stdout",
     "output_type": "stream",
     "text": [
      "Help on module colours:\n",
      "\n",
      "NAME\n",
      "    colours\n",
      "\n",
      "DESCRIPTION\n",
      "    module created for understanding\n",
      "    user based libraries\n",
      "    adha\n",
      "    aed\n",
      "    adad\n",
      "    a\n",
      "    dfsgsfgdg\n",
      "\n",
      "FUNCTIONS\n",
      "    blue()\n",
      "        function to paint it all blue\n",
      "    \n",
      "    green()\n",
      "        go green\n",
      "    \n",
      "    yellow()\n",
      "        function to paint it all yellow\n",
      "\n",
      "DATA\n",
      "    data1 = 300\n",
      "    data2 = 200\n",
      "\n",
      "FILE\n",
      "    /Users/shobhit/Desktop/allstate/day_2/colours.py\n",
      "\n",
      "\n"
     ]
    }
   ],
   "source": [
    "help(colours)"
   ]
  },
  {
   "cell_type": "code",
   "execution_count": 16,
   "metadata": {},
   "outputs": [],
   "source": [
    "import sys"
   ]
  },
  {
   "cell_type": "code",
   "execution_count": 17,
   "metadata": {
    "scrolled": true
   },
   "outputs": [
    {
     "data": {
      "text/plain": [
       "['/Users/shobhit/Desktop/allstate/day_2',\n",
       " '/Users/shobhit/opt/anaconda3/lib/python37.zip',\n",
       " '/Users/shobhit/opt/anaconda3/lib/python3.7',\n",
       " '/Users/shobhit/opt/anaconda3/lib/python3.7/lib-dynload',\n",
       " '',\n",
       " '/Users/shobhit/opt/anaconda3/lib/python3.7/site-packages',\n",
       " '/Users/shobhit/opt/anaconda3/lib/python3.7/site-packages/aeosa',\n",
       " '/Users/shobhit/opt/anaconda3/lib/python3.7/site-packages/IPython/extensions',\n",
       " '/Users/shobhit/.ipython']"
      ]
     },
     "execution_count": 17,
     "metadata": {},
     "output_type": "execute_result"
    }
   ],
   "source": [
    "sys.path"
   ]
  },
  {
   "cell_type": "code",
   "execution_count": 18,
   "metadata": {},
   "outputs": [
    {
     "data": {
      "text/plain": [
       "list"
      ]
     },
     "execution_count": 18,
     "metadata": {},
     "output_type": "execute_result"
    }
   ],
   "source": [
    "type(sys.path)"
   ]
  },
  {
   "cell_type": "code",
   "execution_count": 19,
   "metadata": {},
   "outputs": [
    {
     "ename": "ModuleNotFoundError",
     "evalue": "No module named 'demo'",
     "output_type": "error",
     "traceback": [
      "\u001b[0;31m---------------------------------------------------------------------------\u001b[0m",
      "\u001b[0;31mModuleNotFoundError\u001b[0m                       Traceback (most recent call last)",
      "\u001b[0;32m<ipython-input-19-699327cd1cad>\u001b[0m in \u001b[0;36m<module>\u001b[0;34m\u001b[0m\n\u001b[0;32m----> 1\u001b[0;31m \u001b[0;32mimport\u001b[0m \u001b[0mdemo\u001b[0m\u001b[0;34m\u001b[0m\u001b[0;34m\u001b[0m\u001b[0m\n\u001b[0m",
      "\u001b[0;31mModuleNotFoundError\u001b[0m: No module named 'demo'"
     ]
    }
   ],
   "source": [
    "import demo"
   ]
  },
  {
   "cell_type": "code",
   "execution_count": 20,
   "metadata": {},
   "outputs": [],
   "source": [
    "sys.path.append('/Users/shobhit/Desktop/allstate/day_1/sample')"
   ]
  },
  {
   "cell_type": "code",
   "execution_count": 21,
   "metadata": {},
   "outputs": [
    {
     "data": {
      "text/plain": [
       "['/Users/shobhit/Desktop/allstate/day_2',\n",
       " '/Users/shobhit/opt/anaconda3/lib/python37.zip',\n",
       " '/Users/shobhit/opt/anaconda3/lib/python3.7',\n",
       " '/Users/shobhit/opt/anaconda3/lib/python3.7/lib-dynload',\n",
       " '',\n",
       " '/Users/shobhit/opt/anaconda3/lib/python3.7/site-packages',\n",
       " '/Users/shobhit/opt/anaconda3/lib/python3.7/site-packages/aeosa',\n",
       " '/Users/shobhit/opt/anaconda3/lib/python3.7/site-packages/IPython/extensions',\n",
       " '/Users/shobhit/.ipython',\n",
       " '/Users/shobhit/Desktop/allstate/day_1/sample']"
      ]
     },
     "execution_count": 21,
     "metadata": {},
     "output_type": "execute_result"
    }
   ],
   "source": [
    "sys.path"
   ]
  },
  {
   "cell_type": "code",
   "execution_count": 22,
   "metadata": {},
   "outputs": [],
   "source": [
    "import demo"
   ]
  },
  {
   "cell_type": "code",
   "execution_count": null,
   "metadata": {},
   "outputs": [],
   "source": []
  }
 ],
 "metadata": {
  "kernelspec": {
   "display_name": "Python 3",
   "language": "python",
   "name": "python3"
  },
  "language_info": {
   "codemirror_mode": {
    "name": "ipython",
    "version": 3
   },
   "file_extension": ".py",
   "mimetype": "text/x-python",
   "name": "python",
   "nbconvert_exporter": "python",
   "pygments_lexer": "ipython3",
   "version": "3.7.7"
  }
 },
 "nbformat": 4,
 "nbformat_minor": 4
}
